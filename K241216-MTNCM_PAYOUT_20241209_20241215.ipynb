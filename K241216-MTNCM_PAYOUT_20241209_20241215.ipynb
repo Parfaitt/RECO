{
 "cells": [
  {
   "cell_type": "code",
   "execution_count": 78,
   "id": "0c929116-5ee9-4177-a831-e759a7b7b7b3",
   "metadata": {},
   "outputs": [],
   "source": [
    "import pandas as pd\n",
    "import numpy as np\n",
    "import seaborn as sns\n",
    "import warnings\n",
    "warnings.filterwarnings('ignore')\n",
    "couleurs = ['#97C1A9', '#FFFFFF']\n",
    "import matplotlib.pyplot as plt\n",
    "import os\n",
    "from datetime import datetime"
   ]
  },
  {
   "cell_type": "code",
   "execution_count": 79,
   "id": "075a78c7-4cba-4f36-85d1-7e63e838b0ce",
   "metadata": {},
   "outputs": [],
   "source": [
    "pd.options.display.float_format = '{:.2f}'.format"
   ]
  },
  {
   "cell_type": "code",
   "execution_count": 80,
   "id": "5ccd8a85-9417-42b7-935a-42523268892f",
   "metadata": {},
   "outputs": [
    {
     "data": {
      "text/html": [
       "<div>\n",
       "<style scoped>\n",
       "    .dataframe tbody tr th:only-of-type {\n",
       "        vertical-align: middle;\n",
       "    }\n",
       "\n",
       "    .dataframe tbody tr th {\n",
       "        vertical-align: top;\n",
       "    }\n",
       "\n",
       "    .dataframe thead th {\n",
       "        text-align: right;\n",
       "    }\n",
       "</style>\n",
       "<table border=\"1\" class=\"dataframe\">\n",
       "  <thead>\n",
       "    <tr style=\"text-align: right;\">\n",
       "      <th></th>\n",
       "      <th>Created Date</th>\n",
       "      <th>Payment Date</th>\n",
       "      <th>Operator</th>\n",
       "      <th>Nom du Marchand</th>\n",
       "      <th>Identifiant</th>\n",
       "      <th>Transaction ID</th>\n",
       "      <th>Merchant transaction ID</th>\n",
       "      <th>ID Opérateur</th>\n",
       "      <th>ID de transaction externe</th>\n",
       "      <th>Numéro de téléphone</th>\n",
       "      <th>...</th>\n",
       "      <th>Merchant amount</th>\n",
       "      <th>Devise</th>\n",
       "      <th>Opération</th>\n",
       "      <th>Statut</th>\n",
       "      <th>Provider ID</th>\n",
       "      <th>Provider Name</th>\n",
       "      <th>Pays</th>\n",
       "      <th>Provider Status</th>\n",
       "      <th>Origin before check</th>\n",
       "      <th>Origin after check</th>\n",
       "    </tr>\n",
       "  </thead>\n",
       "  <tbody>\n",
       "    <tr>\n",
       "      <th>5837</th>\n",
       "      <td>2024-12-08 09:25:24</td>\n",
       "      <td>NaN</td>\n",
       "      <td>MTN_CM</td>\n",
       "      <td>1XBET CM</td>\n",
       "      <td>NaN</td>\n",
       "      <td>1cb3da49-c6fc-45aa-9def-081fd58dc7b6</td>\n",
       "      <td>3021362097</td>\n",
       "      <td>10812039177.00</td>\n",
       "      <td>NaN</td>\n",
       "      <td>237678326386</td>\n",
       "      <td>...</td>\n",
       "      <td>2080,00</td>\n",
       "      <td>XAF</td>\n",
       "      <td>Transfer</td>\n",
       "      <td>succès</td>\n",
       "      <td>1cb3da49-c6fc-45aa-9def-081fd58dc7b6</td>\n",
       "      <td>MTN CM Payout Direct</td>\n",
       "      <td>CM</td>\n",
       "      <td>succès</td>\n",
       "      <td>{\"cookies\":{},\"transferStats\":{}}</td>\n",
       "      <td>{\"amount\":\"2000\",\"currency\":\"XAF\",\"financialTr...</td>\n",
       "    </tr>\n",
       "  </tbody>\n",
       "</table>\n",
       "<p>1 rows × 23 columns</p>\n",
       "</div>"
      ],
      "text/plain": [
       "             Created Date  Payment Date Operator Nom du Marchand  Identifiant  \\\n",
       "5837  2024-12-08 09:25:24           NaN   MTN_CM        1XBET CM          NaN   \n",
       "\n",
       "                            Transaction ID  Merchant transaction ID  \\\n",
       "5837  1cb3da49-c6fc-45aa-9def-081fd58dc7b6               3021362097   \n",
       "\n",
       "       ID Opérateur  ID de transaction externe  Numéro de téléphone  ...  \\\n",
       "5837 10812039177.00                        NaN         237678326386  ...   \n",
       "\n",
       "     Merchant amount Devise Opération  Statut  \\\n",
       "5837         2080,00    XAF  Transfer  succès   \n",
       "\n",
       "                               Provider ID         Provider Name Pays  \\\n",
       "5837  1cb3da49-c6fc-45aa-9def-081fd58dc7b6  MTN CM Payout Direct   CM   \n",
       "\n",
       "     Provider Status                Origin before check  \\\n",
       "5837          succès  {\"cookies\":{},\"transferStats\":{}}   \n",
       "\n",
       "                                     Origin after check  \n",
       "5837  {\"amount\":\"2000\",\"currency\":\"XAF\",\"financialTr...  \n",
       "\n",
       "[1 rows x 23 columns]"
      ]
     },
     "execution_count": 80,
     "metadata": {},
     "output_type": "execute_result"
    }
   ],
   "source": [
    "directory = r'D:\\RECONCILIATIONS\\TRANSFERT\\MTN CM\\Données OP\\DEC'\n",
    "\n",
    "# Je recupère le fichier CSV le plus récent dans mon repertoire scpécifier\n",
    "def get_latest_file(directory):\n",
    "    files = [os.path.join(directory, f) for f in os.listdir(directory) if f.endswith('.csv')]\n",
    "    latest_file = max(files, key=os.path.getctime)\n",
    "    return latest_file\n",
    "\n",
    "# Je Charge le fichier CSV le plus récent\n",
    "latest_file_path = get_latest_file(directory)\n",
    "mtn = pd.read_csv(latest_file_path)\n",
    "mtn.sample()\n",
    "\n",
    "\n",
    "\n",
    "directory = r'D:\\RECONCILIATIONS\\TRANSFERT\\MTN CM\\Données PMT\\DEC'\n",
    "\n",
    "# Je recupère le fichier CSV le plus récent dans mon repertoire scpécifier\n",
    "def get_latest_file(directory):\n",
    "    files = [os.path.join(directory, f) for f in os.listdir(directory) if f.endswith('.csv')]\n",
    "    latest_file = max(files, key=os.path.getctime)\n",
    "    return latest_file\n",
    "\n",
    "# Je Charge le fichier CSV le plus récent\n",
    "latest_file_path = get_latest_file(directory)\n",
    "pmt = pd.read_csv(latest_file_path)\n",
    "pmt.sample()"
   ]
  },
  {
   "cell_type": "code",
   "execution_count": 81,
   "id": "be1990c7-8a02-4868-ae91-9a675ecdbb2d",
   "metadata": {},
   "outputs": [],
   "source": [
    "#mtn = pd.read_csv(r'D:\\RECONCILIATIONS\\TRANSFERT\\MTN CM\\Données OP\\JUIN\\20240701-MTN CM-PAYOUT-20240601-20240630.csv')"
   ]
  },
  {
   "cell_type": "code",
   "execution_count": 82,
   "id": "dc6dfd9f-71f8-467f-8e66-7a6674741cd3",
   "metadata": {},
   "outputs": [],
   "source": [
    "#pmt = pd.read_csv(r'D:\\RECONCILIATIONS\\TRANSFERT\\MTN CM\\Données PMT\\JUIN\\20240701_PAYOUT_PMT_MTN_CM_20240601-20240630.csv')"
   ]
  },
  {
   "cell_type": "code",
   "execution_count": 83,
   "id": "cecf03be-dd2b-4033-be11-ada0679fbbc8",
   "metadata": {},
   "outputs": [],
   "source": [
    "mtn1=mtn.copy()\n",
    "pmt1=pmt.copy()"
   ]
  },
  {
   "cell_type": "code",
   "execution_count": 84,
   "id": "b021f0a2-8abb-4f70-a2cd-5fe551a69344",
   "metadata": {},
   "outputs": [],
   "source": [
    "dfmtn=mtn[['Id',\n",
    "           'External id',\n",
    "           'Date',\n",
    "           'Status',\n",
    "           'Type',\n",
    "           'Amount',\n",
    "           'Currency.14',\n",
    "           'From name',\n",
    "           'From handler name'\n",
    "]]"
   ]
  },
  {
   "cell_type": "code",
   "execution_count": 85,
   "id": "ed933fe9-d58e-4b2a-a86e-dbb3b9b4f93e",
   "metadata": {},
   "outputs": [],
   "source": [
    "\"\"\"\n",
    "dfpmt = pmt.rename(columns={\n",
    "        'created_at': 'Created Date',\n",
    "        'payment_date': 'Payment Date',\n",
    "        'operator': 'Operator',\n",
    "        'merchant_name': 'Merchant Name',\n",
    "        'transaction_id': 'Transaction ID',\n",
    "        'id_operator': 'ID Opérateur',\n",
    "        'phone_number': 'Phone Number',\n",
    "        'amount': 'Montant',\n",
    "        'fee_amount': 'Fee amount',\n",
    "        'merchant_amount': 'Merchant amount',\n",
    "        'statut': 'Statut'\n",
    "    })\n",
    "\"\"\"\n",
    "\n",
    "dfpmt1=pmt[['Created Date',\n",
    "         'Payment Date',\n",
    "         'Operator',\n",
    "         'Nom du Marchand',\n",
    "         'Transaction ID',\n",
    "         'ID Opérateur',\n",
    "         'Numéro de téléphone',\n",
    "         'Montant',\n",
    "         'Fee amount',\n",
    "         'Merchant amount',\n",
    "         'Statut'\n",
    "]]"
   ]
  },
  {
   "cell_type": "code",
   "execution_count": 86,
   "id": "c1f807d8-ce4b-48bc-a90a-35d31b27c368",
   "metadata": {},
   "outputs": [],
   "source": [
    "#dfmtn['Externalid'] = dfmtn['External id'].str.replace('-', '')"
   ]
  },
  {
   "cell_type": "code",
   "execution_count": 87,
   "id": "509257f7-94e9-4336-a2d7-53e97dca984d",
   "metadata": {},
   "outputs": [],
   "source": [
    "#CONVERTIR LA DATE EN DATETIME\n",
    "\n",
    "#EXTRAITRE LA DATE DANS UNE NOUVELLE COLLONNE\n",
    "dfpmt1['DateCourte'] = dfpmt1['Created Date'].apply(lambda x: x.split(' ')[0])"
   ]
  },
  {
   "cell_type": "code",
   "execution_count": 88,
   "id": "67d45266-f185-4136-a006-bf9d0b654777",
   "metadata": {},
   "outputs": [],
   "source": [
    "# Convertir les valeurs en chaînes de caractères et gérer les valeurs manquantes\n",
    "dfmtn['Date'] = dfmtn['Date'].astype(str)\n",
    "\n",
    "# Extraire la date dans une nouvelle colonne en utilisant une condition pour éviter les erreurs sur les NaN ou float\n",
    "dfmtn['DateCourte'] = dfmtn['Date'].apply(lambda x: x.split(' ')[0] if ' ' in x else x)\n"
   ]
  },
  {
   "cell_type": "code",
   "execution_count": 89,
   "id": "7d37b8c8-9487-4cbc-b9d8-b9b283a507c5",
   "metadata": {},
   "outputs": [
    {
     "data": {
      "text/html": [
       "<div>\n",
       "<style scoped>\n",
       "    .dataframe tbody tr th:only-of-type {\n",
       "        vertical-align: middle;\n",
       "    }\n",
       "\n",
       "    .dataframe tbody tr th {\n",
       "        vertical-align: top;\n",
       "    }\n",
       "\n",
       "    .dataframe thead th {\n",
       "        text-align: right;\n",
       "    }\n",
       "</style>\n",
       "<table border=\"1\" class=\"dataframe\">\n",
       "  <thead>\n",
       "    <tr style=\"text-align: right;\">\n",
       "      <th></th>\n",
       "      <th>Created Date</th>\n",
       "      <th>Payment Date</th>\n",
       "      <th>Operator</th>\n",
       "      <th>Nom du Marchand</th>\n",
       "      <th>Transaction ID</th>\n",
       "      <th>ID Opérateur</th>\n",
       "      <th>Numéro de téléphone</th>\n",
       "      <th>Montant</th>\n",
       "      <th>Fee amount</th>\n",
       "      <th>Merchant amount</th>\n",
       "      <th>Statut</th>\n",
       "      <th>DateCourte</th>\n",
       "    </tr>\n",
       "  </thead>\n",
       "  <tbody>\n",
       "    <tr>\n",
       "      <th>3034</th>\n",
       "      <td>2024-12-10 15:13:44</td>\n",
       "      <td>NaN</td>\n",
       "      <td>MTN_CM</td>\n",
       "      <td>1XBET CM</td>\n",
       "      <td>2a650761-bf64-4ed5-9a65-ef3840f8874e</td>\n",
       "      <td>10837201555.00</td>\n",
       "      <td>237672895930</td>\n",
       "      <td>5600,00</td>\n",
       "      <td>224,00</td>\n",
       "      <td>5824,00</td>\n",
       "      <td>succès</td>\n",
       "      <td>2024-12-10</td>\n",
       "    </tr>\n",
       "    <tr>\n",
       "      <th>1044</th>\n",
       "      <td>2024-12-12 22:35:40</td>\n",
       "      <td>NaN</td>\n",
       "      <td>MTN_CM</td>\n",
       "      <td>MELBET CM</td>\n",
       "      <td>c61e99d7-d293-4d53-8ff0-a9b71df6e61f</td>\n",
       "      <td>10864558946.00</td>\n",
       "      <td>237671273770</td>\n",
       "      <td>10650,00</td>\n",
       "      <td>532,50</td>\n",
       "      <td>11182,50</td>\n",
       "      <td>succès</td>\n",
       "      <td>2024-12-12</td>\n",
       "    </tr>\n",
       "    <tr>\n",
       "      <th>4611</th>\n",
       "      <td>2024-12-08 20:51:45</td>\n",
       "      <td>NaN</td>\n",
       "      <td>MTN_CM</td>\n",
       "      <td>BetWinner CM</td>\n",
       "      <td>5c306e62-17cb-4296-b9bb-843d84d26fd5</td>\n",
       "      <td>10819569167.00</td>\n",
       "      <td>237677519076</td>\n",
       "      <td>1000,00</td>\n",
       "      <td>20,00</td>\n",
       "      <td>1020,00</td>\n",
       "      <td>succès</td>\n",
       "      <td>2024-12-08</td>\n",
       "    </tr>\n",
       "    <tr>\n",
       "      <th>3736</th>\n",
       "      <td>2024-12-10 08:42:43</td>\n",
       "      <td>NaN</td>\n",
       "      <td>MTN_CM</td>\n",
       "      <td>1XBET CM</td>\n",
       "      <td>d2994ba0-8ce7-4594-8637-9e6f24e91c7a</td>\n",
       "      <td>10832993116.00</td>\n",
       "      <td>237679389451</td>\n",
       "      <td>15000,00</td>\n",
       "      <td>600,00</td>\n",
       "      <td>15600,00</td>\n",
       "      <td>succès</td>\n",
       "      <td>2024-12-10</td>\n",
       "    </tr>\n",
       "    <tr>\n",
       "      <th>2966</th>\n",
       "      <td>2024-12-10 15:47:53</td>\n",
       "      <td>NaN</td>\n",
       "      <td>MTN_CM</td>\n",
       "      <td>BetWinner CM</td>\n",
       "      <td>70dcb4fb-018d-4016-acfe-f556846f9d96</td>\n",
       "      <td>10837664572.00</td>\n",
       "      <td>237652796288</td>\n",
       "      <td>18500,00</td>\n",
       "      <td>370,00</td>\n",
       "      <td>18870,00</td>\n",
       "      <td>succès</td>\n",
       "      <td>2024-12-10</td>\n",
       "    </tr>\n",
       "    <tr>\n",
       "      <th>3151</th>\n",
       "      <td>2024-12-10 14:05:18</td>\n",
       "      <td>NaN</td>\n",
       "      <td>MTN_CM</td>\n",
       "      <td>BetWinner CM</td>\n",
       "      <td>9ffcf914-0ab2-4dbe-9627-79b005673c4c</td>\n",
       "      <td>10836436635.00</td>\n",
       "      <td>237683199357</td>\n",
       "      <td>63143,00</td>\n",
       "      <td>1262,86</td>\n",
       "      <td>64405,86</td>\n",
       "      <td>succès</td>\n",
       "      <td>2024-12-10</td>\n",
       "    </tr>\n",
       "  </tbody>\n",
       "</table>\n",
       "</div>"
      ],
      "text/plain": [
       "             Created Date  Payment Date Operator Nom du Marchand  \\\n",
       "3034  2024-12-10 15:13:44           NaN   MTN_CM        1XBET CM   \n",
       "1044  2024-12-12 22:35:40           NaN   MTN_CM       MELBET CM   \n",
       "4611  2024-12-08 20:51:45           NaN   MTN_CM    BetWinner CM   \n",
       "3736  2024-12-10 08:42:43           NaN   MTN_CM        1XBET CM   \n",
       "2966  2024-12-10 15:47:53           NaN   MTN_CM    BetWinner CM   \n",
       "3151  2024-12-10 14:05:18           NaN   MTN_CM    BetWinner CM   \n",
       "\n",
       "                            Transaction ID   ID Opérateur  \\\n",
       "3034  2a650761-bf64-4ed5-9a65-ef3840f8874e 10837201555.00   \n",
       "1044  c61e99d7-d293-4d53-8ff0-a9b71df6e61f 10864558946.00   \n",
       "4611  5c306e62-17cb-4296-b9bb-843d84d26fd5 10819569167.00   \n",
       "3736  d2994ba0-8ce7-4594-8637-9e6f24e91c7a 10832993116.00   \n",
       "2966  70dcb4fb-018d-4016-acfe-f556846f9d96 10837664572.00   \n",
       "3151  9ffcf914-0ab2-4dbe-9627-79b005673c4c 10836436635.00   \n",
       "\n",
       "      Numéro de téléphone   Montant Fee amount Merchant amount  Statut  \\\n",
       "3034         237672895930   5600,00     224,00         5824,00  succès   \n",
       "1044         237671273770  10650,00     532,50        11182,50  succès   \n",
       "4611         237677519076   1000,00      20,00         1020,00  succès   \n",
       "3736         237679389451  15000,00     600,00        15600,00  succès   \n",
       "2966         237652796288  18500,00     370,00        18870,00  succès   \n",
       "3151         237683199357  63143,00    1262,86        64405,86  succès   \n",
       "\n",
       "      DateCourte  \n",
       "3034  2024-12-10  \n",
       "1044  2024-12-12  \n",
       "4611  2024-12-08  \n",
       "3736  2024-12-10  \n",
       "2966  2024-12-10  \n",
       "3151  2024-12-10  "
      ]
     },
     "execution_count": 89,
     "metadata": {},
     "output_type": "execute_result"
    }
   ],
   "source": [
    "dfpmt1.sample(6)"
   ]
  },
  {
   "cell_type": "code",
   "execution_count": 90,
   "id": "38612e94-c7f9-4615-957d-5a9dc0d211bc",
   "metadata": {},
   "outputs": [
    {
     "data": {
      "text/plain": [
       "array(['succès', 'échec'], dtype=object)"
      ]
     },
     "execution_count": 90,
     "metadata": {},
     "output_type": "execute_result"
    }
   ],
   "source": [
    "dfpmt1['Statut'].unique()"
   ]
  },
  {
   "cell_type": "code",
   "execution_count": 91,
   "id": "d0830b28-26c6-4a28-b914-4691424e0e84",
   "metadata": {},
   "outputs": [
    {
     "data": {
      "text/html": [
       "<div>\n",
       "<style scoped>\n",
       "    .dataframe tbody tr th:only-of-type {\n",
       "        vertical-align: middle;\n",
       "    }\n",
       "\n",
       "    .dataframe tbody tr th {\n",
       "        vertical-align: top;\n",
       "    }\n",
       "\n",
       "    .dataframe thead th {\n",
       "        text-align: right;\n",
       "    }\n",
       "</style>\n",
       "<table border=\"1\" class=\"dataframe\">\n",
       "  <thead>\n",
       "    <tr style=\"text-align: right;\">\n",
       "      <th></th>\n",
       "      <th>Id</th>\n",
       "      <th>External id</th>\n",
       "      <th>Date</th>\n",
       "      <th>Status</th>\n",
       "      <th>Type</th>\n",
       "      <th>Amount</th>\n",
       "      <th>Currency.14</th>\n",
       "      <th>From name</th>\n",
       "      <th>From handler name</th>\n",
       "      <th>DateCourte</th>\n",
       "    </tr>\n",
       "  </thead>\n",
       "  <tbody>\n",
       "    <tr>\n",
       "      <th>0</th>\n",
       "      <td>10869108392</td>\n",
       "      <td>NaN</td>\n",
       "      <td>2024-12-13 11:51:54</td>\n",
       "      <td>Successful</td>\n",
       "      <td>Transfer</td>\n",
       "      <td>22000000</td>\n",
       "      <td>XAF</td>\n",
       "      <td>PAYMETRUST Payment</td>\n",
       "      <td>PAYMETRUST Payment</td>\n",
       "      <td>2024-12-13</td>\n",
       "    </tr>\n",
       "    <tr>\n",
       "      <th>1</th>\n",
       "      <td>10867040710</td>\n",
       "      <td>8a1e6d6a-f81c-40a8-89f4-1539f6db160b</td>\n",
       "      <td>2024-12-13 08:46:03</td>\n",
       "      <td>Successful</td>\n",
       "      <td>Transfer</td>\n",
       "      <td>-2000</td>\n",
       "      <td>XAF</td>\n",
       "      <td>PAYMETRUST Deposit</td>\n",
       "      <td>PAYMETRUST Deposit</td>\n",
       "      <td>2024-12-13</td>\n",
       "    </tr>\n",
       "  </tbody>\n",
       "</table>\n",
       "</div>"
      ],
      "text/plain": [
       "            Id                           External id                 Date  \\\n",
       "0  10869108392                                   NaN  2024-12-13 11:51:54   \n",
       "1  10867040710  8a1e6d6a-f81c-40a8-89f4-1539f6db160b  2024-12-13 08:46:03   \n",
       "\n",
       "       Status      Type    Amount Currency.14           From name  \\\n",
       "0  Successful  Transfer  22000000         XAF  PAYMETRUST Payment   \n",
       "1  Successful  Transfer     -2000         XAF  PAYMETRUST Deposit   \n",
       "\n",
       "    From handler name  DateCourte  \n",
       "0  PAYMETRUST Payment  2024-12-13  \n",
       "1  PAYMETRUST Deposit  2024-12-13  "
      ]
     },
     "execution_count": 91,
     "metadata": {},
     "output_type": "execute_result"
    }
   ],
   "source": [
    "dfmtn.head(2)"
   ]
  },
  {
   "cell_type": "code",
   "execution_count": 92,
   "id": "5b898aad-a714-4d20-8feb-f8379762be9b",
   "metadata": {},
   "outputs": [
    {
     "name": "stdout",
     "output_type": "stream",
     "text": [
      "<class 'pandas.core.frame.DataFrame'>\n",
      "RangeIndex: 3930 entries, 0 to 3929\n",
      "Data columns (total 10 columns):\n",
      " #   Column             Non-Null Count  Dtype \n",
      "---  ------             --------------  ----- \n",
      " 0   Id                 3930 non-null   int64 \n",
      " 1   External id        3923 non-null   object\n",
      " 2   Date               3930 non-null   object\n",
      " 3   Status             3930 non-null   object\n",
      " 4   Type               3930 non-null   object\n",
      " 5   Amount             3930 non-null   int64 \n",
      " 6   Currency.14        3930 non-null   object\n",
      " 7   From name          3930 non-null   object\n",
      " 8   From handler name  3930 non-null   object\n",
      " 9   DateCourte         3930 non-null   object\n",
      "dtypes: int64(2), object(8)\n",
      "memory usage: 307.2+ KB\n"
     ]
    }
   ],
   "source": [
    "dfmtn.info()"
   ]
  },
  {
   "cell_type": "code",
   "execution_count": 93,
   "id": "f80348ff-84a8-4e35-b35b-2570769b1aad",
   "metadata": {},
   "outputs": [
    {
     "name": "stdout",
     "output_type": "stream",
     "text": [
      "<class 'pandas.core.frame.DataFrame'>\n",
      "RangeIndex: 5917 entries, 0 to 5916\n",
      "Data columns (total 12 columns):\n",
      " #   Column               Non-Null Count  Dtype  \n",
      "---  ------               --------------  -----  \n",
      " 0   Created Date         5917 non-null   object \n",
      " 1   Payment Date         0 non-null      float64\n",
      " 2   Operator             5917 non-null   object \n",
      " 3   Nom du Marchand      5917 non-null   object \n",
      " 4   Transaction ID       5917 non-null   object \n",
      " 5   ID Opérateur         5669 non-null   float64\n",
      " 6   Numéro de téléphone  5917 non-null   int64  \n",
      " 7   Montant              5917 non-null   object \n",
      " 8   Fee amount           5917 non-null   object \n",
      " 9   Merchant amount      5917 non-null   object \n",
      " 10  Statut               5917 non-null   object \n",
      " 11  DateCourte           5917 non-null   object \n",
      "dtypes: float64(2), int64(1), object(9)\n",
      "memory usage: 554.8+ KB\n"
     ]
    }
   ],
   "source": [
    "dfpmt1.info()"
   ]
  },
  {
   "cell_type": "code",
   "execution_count": 94,
   "id": "96baf8b1-187f-45a4-8ac7-aa9d62a31258",
   "metadata": {},
   "outputs": [
    {
     "data": {
      "text/plain": [
       "np.int64(7)"
      ]
     },
     "execution_count": 94,
     "metadata": {},
     "output_type": "execute_result"
    }
   ],
   "source": [
    "dfmtn['External id'].isnull().sum()"
   ]
  },
  {
   "cell_type": "code",
   "execution_count": 95,
   "id": "7c081595-9360-4dfe-ae23-2bd7383dac4f",
   "metadata": {},
   "outputs": [],
   "source": [
    "dfmtn = dfmtn.drop_duplicates(subset=['External id'])"
   ]
  },
  {
   "cell_type": "code",
   "execution_count": 96,
   "id": "78d0f9bc-d8dd-47f6-8792-c84461aeeced",
   "metadata": {},
   "outputs": [
    {
     "data": {
      "text/plain": [
       "np.int64(1)"
      ]
     },
     "execution_count": 96,
     "metadata": {},
     "output_type": "execute_result"
    }
   ],
   "source": [
    "dfmtn['External id'].isnull().sum()"
   ]
  },
  {
   "cell_type": "code",
   "execution_count": 97,
   "id": "08d063b5-a0e4-4b0e-927f-335e1ef8dfe3",
   "metadata": {},
   "outputs": [
    {
     "data": {
      "text/plain": [
       "np.int64(0)"
      ]
     },
     "execution_count": 97,
     "metadata": {},
     "output_type": "execute_result"
    }
   ],
   "source": [
    "dfpmt1['Transaction ID'].isnull().sum()"
   ]
  },
  {
   "cell_type": "code",
   "execution_count": 98,
   "id": "0502e457-d9ef-4544-aab7-e0430eb9677d",
   "metadata": {},
   "outputs": [],
   "source": [
    "correspondance_statut_op= dfmtn.set_index('External id')['Status']\n",
    "correspondance_date_op = dfmtn.set_index('External id')['DateCourte']\n",
    "correspondance_idoperator = dfmtn.set_index('External id')['Id']\n",
    "\n",
    "\n",
    "dfpmt1['DATEOP'] = dfpmt1['Transaction ID'].map(correspondance_date_op)\n",
    "dfpmt1['STATUTOP'] = dfpmt1['Transaction ID'].map(correspondance_statut_op)\n",
    "dfpmt1['IDOPERATOR'] = dfpmt1['Transaction ID'].map(correspondance_idoperator)"
   ]
  },
  {
   "cell_type": "code",
   "execution_count": 99,
   "id": "142f2e1a-67c2-45af-87fa-95eba3242717",
   "metadata": {},
   "outputs": [],
   "source": [
    "dfpmt1['Montant']= dfpmt1['Montant'].str.replace(',','.').astype(float)\n",
    "dfpmt1['Fee amount']= dfpmt1['Fee amount'].str.replace(',','.').astype(float)"
   ]
  },
  {
   "cell_type": "code",
   "execution_count": 100,
   "id": "d70d83ba-43c1-4efe-a1de-9c650fb515a4",
   "metadata": {},
   "outputs": [],
   "source": [
    "dfpmt1['Fraisop'] = dfpmt1['Montant'] * 0.001\n",
    "dfpmt1['FraisPmt'] = dfpmt1['Fee amount'] - dfpmt1['Fraisop']"
   ]
  },
  {
   "cell_type": "code",
   "execution_count": 101,
   "id": "4c426f7d-669f-4ce8-bc6e-1ecc3eb24cdb",
   "metadata": {},
   "outputs": [],
   "source": [
    "dfpmt1['Fraisop'] = dfpmt1['Montant'] * 0.001\n",
    "dfpmt1['FraisPmt'] = dfpmt1['Fee amount'] - dfpmt1['Fraisop']"
   ]
  },
  {
   "cell_type": "code",
   "execution_count": 102,
   "id": "7bbfc6b4-71c7-4306-9ef5-9660fb97436b",
   "metadata": {},
   "outputs": [
    {
     "data": {
      "text/plain": [
       "array(['Transfer'], dtype=object)"
      ]
     },
     "execution_count": 102,
     "metadata": {},
     "output_type": "execute_result"
    }
   ],
   "source": [
    "dfmtn['Type'].unique()"
   ]
  },
  {
   "cell_type": "code",
   "execution_count": 103,
   "id": "c85c4137-8c19-4b1c-8f25-87975c49d936",
   "metadata": {},
   "outputs": [],
   "source": [
    "transfert= dfmtn.loc[(dfmtn['Type'] == 'Transfer') & (dfmtn['From name'] == 'PAYMETRUST Deposit')]"
   ]
  },
  {
   "cell_type": "markdown",
   "id": "9922d6f4-7c9c-479f-a59e-94a08c87d432",
   "metadata": {},
   "source": [
    "NBSI PMT ET MTNCM"
   ]
  },
  {
   "cell_type": "code",
   "execution_count": 104,
   "id": "2f119f5f-f187-4a2a-9f9d-b6d996746a4c",
   "metadata": {},
   "outputs": [],
   "source": [
    "#NBSI PMT &OMBF\n",
    "dfpmt1['MTN'] = dfpmt1['Transaction ID'].isin(transfert['External id']).astype(int)\n",
    "transfert['PMT'] = transfert['External id'].isin(dfpmt1['Transaction ID']).astype(int)"
   ]
  },
  {
   "cell_type": "code",
   "execution_count": 105,
   "id": "d3959ba9-7e8c-403d-b08a-3fbd71b54cad",
   "metadata": {},
   "outputs": [],
   "source": [
    "#NBSI PMT &OMBF\n",
    "dfpmt1['MTN'] = dfpmt1['Transaction ID'].isin(transfert['External id']).astype(int)\n",
    "transfert['PMT'] = transfert['External id'].isin(dfpmt1['Transaction ID']).astype(int)"
   ]
  },
  {
   "cell_type": "code",
   "execution_count": 106,
   "id": "4a77fdae-dae5-45ae-bcb3-878803fbe37e",
   "metadata": {},
   "outputs": [],
   "source": [
    "dfpmt1['Nombre']= dfpmt1['Montant']\n",
    "transfert['Nombre']= transfert['Amount']"
   ]
  },
  {
   "cell_type": "markdown",
   "id": "300a205b-aaa6-468d-b07f-a951725e442c",
   "metadata": {},
   "source": [
    "TABLEAU CROISE DYNAMIQUE PMT ET MTNCM"
   ]
  },
  {
   "cell_type": "code",
   "execution_count": 148,
   "id": "c0eef787-e497-409b-91ef-5218f15091a7",
   "metadata": {},
   "outputs": [],
   "source": [
    "df_filteredpmt = dfpmt1[dfpmt1['MTN'] == 1]\n",
    "\n",
    "# Création du tableau croisé dynamique\n",
    "tcdpmt = pd.pivot_table(\n",
    "    df_filteredpmt,\n",
    "    values=['Montant', 'Nombre','Fraisop', 'FraisPmt'],\n",
    "    index=['DATEOP','Statut'],\n",
    "    aggfunc={'Nombre': 'count','Montant': 'sum' ,'Fraisop': 'sum', 'FraisPmt': 'sum' },\n",
    "    fill_value=0,\n",
    "    margins=True,\n",
    "    margins_name='Total'\n",
    ")\n",
    "\n",
    "df_filtered = transfert[(transfert['PMT'] == 1) | (transfert['PMT'] == 0)]\n",
    "\n",
    "# Création du tableau croisé dynamique\n",
    "tcdmtn = pd.pivot_table(\n",
    "    df_filtered,\n",
    "    values=['Nombre', 'Amount'],\n",
    "    index=['DateCourte','Status'],\n",
    "    aggfunc={'Nombre': 'count','Amount': 'sum' },\n",
    "    fill_value=0,\n",
    "    margins=True,\n",
    "    margins_name='Total'\n",
    ")"
   ]
  },
  {
   "cell_type": "code",
   "execution_count": 150,
   "id": "9fce0351-6f36-4eba-a1b2-9cb588cbf8bf",
   "metadata": {},
   "outputs": [
    {
     "data": {
      "text/html": [
       "<div>\n",
       "<style scoped>\n",
       "    .dataframe tbody tr th:only-of-type {\n",
       "        vertical-align: middle;\n",
       "    }\n",
       "\n",
       "    .dataframe tbody tr th {\n",
       "        vertical-align: top;\n",
       "    }\n",
       "\n",
       "    .dataframe thead th {\n",
       "        text-align: right;\n",
       "    }\n",
       "</style>\n",
       "<table border=\"1\" class=\"dataframe\">\n",
       "  <thead>\n",
       "    <tr style=\"text-align: right;\">\n",
       "      <th></th>\n",
       "      <th></th>\n",
       "      <th>Nombre</th>\n",
       "      <th>Volume</th>\n",
       "      <th>Faispmt</th>\n",
       "      <th>Fraisop</th>\n",
       "    </tr>\n",
       "    <tr>\n",
       "      <th>DATEOP</th>\n",
       "      <th>Statut</th>\n",
       "      <th></th>\n",
       "      <th></th>\n",
       "      <th></th>\n",
       "      <th></th>\n",
       "    </tr>\n",
       "  </thead>\n",
       "  <tbody>\n",
       "    <tr>\n",
       "      <th>2024-12-09</th>\n",
       "      <th>succès</th>\n",
       "      <td>71</td>\n",
       "      <td>872095.00</td>\n",
       "      <td>25724.01</td>\n",
       "      <td>872.10</td>\n",
       "    </tr>\n",
       "    <tr>\n",
       "      <th>2024-12-10</th>\n",
       "      <th>succès</th>\n",
       "      <td>1066</td>\n",
       "      <td>17800481.00</td>\n",
       "      <td>650075.56</td>\n",
       "      <td>17800.48</td>\n",
       "    </tr>\n",
       "    <tr>\n",
       "      <th>2024-12-12</th>\n",
       "      <th>succès</th>\n",
       "      <td>2029</td>\n",
       "      <td>36410749.00</td>\n",
       "      <td>1260288.90</td>\n",
       "      <td>36410.75</td>\n",
       "    </tr>\n",
       "    <tr>\n",
       "      <th>2024-12-13</th>\n",
       "      <th>succès</th>\n",
       "      <td>757</td>\n",
       "      <td>18876153.00</td>\n",
       "      <td>647711.83</td>\n",
       "      <td>18876.15</td>\n",
       "    </tr>\n",
       "  </tbody>\n",
       "</table>\n",
       "</div>"
      ],
      "text/plain": [
       "                   Nombre      Volume    Faispmt  Fraisop\n",
       "DATEOP     Statut                                        \n",
       "2024-12-09 succès      71   872095.00   25724.01   872.10\n",
       "2024-12-10 succès    1066 17800481.00  650075.56 17800.48\n",
       "2024-12-12 succès    2029 36410749.00 1260288.90 36410.75\n",
       "2024-12-13 succès     757 18876153.00  647711.83 18876.15"
      ]
     },
     "execution_count": 150,
     "metadata": {},
     "output_type": "execute_result"
    }
   ],
   "source": [
    "df_filteredpmt = dfpmt1[(dfpmt1['MTN'] == 1)]\n",
    "tcd=df_filteredpmt.groupby(['DATEOP','Statut']).agg(\n",
    "    Nombre=('Montant','count'),\n",
    "    Volume=('Montant','sum'),\n",
    "    Faispmt=('FraisPmt','sum'),\n",
    "    Fraisop=('Fraisop','sum'),\n",
    ")\n",
    "tcd"
   ]
  },
  {
   "cell_type": "code",
   "execution_count": 151,
   "id": "cf4ef0cd-8174-4e8d-abda-a007dc7abbd2",
   "metadata": {},
   "outputs": [
    {
     "data": {
      "text/html": [
       "<div>\n",
       "<style scoped>\n",
       "    .dataframe tbody tr th:only-of-type {\n",
       "        vertical-align: middle;\n",
       "    }\n",
       "\n",
       "    .dataframe tbody tr th {\n",
       "        vertical-align: top;\n",
       "    }\n",
       "\n",
       "    .dataframe thead th {\n",
       "        text-align: right;\n",
       "    }\n",
       "</style>\n",
       "<table border=\"1\" class=\"dataframe\">\n",
       "  <thead>\n",
       "    <tr style=\"text-align: right;\">\n",
       "      <th></th>\n",
       "      <th></th>\n",
       "      <th>FraisPmt</th>\n",
       "      <th>Fraisop</th>\n",
       "      <th>Montant</th>\n",
       "      <th>Nombre</th>\n",
       "    </tr>\n",
       "    <tr>\n",
       "      <th>DATEOP</th>\n",
       "      <th>Statut</th>\n",
       "      <th></th>\n",
       "      <th></th>\n",
       "      <th></th>\n",
       "      <th></th>\n",
       "    </tr>\n",
       "  </thead>\n",
       "  <tbody>\n",
       "    <tr>\n",
       "      <th>2024-12-09</th>\n",
       "      <th>succès</th>\n",
       "      <td>25724.01</td>\n",
       "      <td>872.10</td>\n",
       "      <td>872095.00</td>\n",
       "      <td>71</td>\n",
       "    </tr>\n",
       "    <tr>\n",
       "      <th>2024-12-10</th>\n",
       "      <th>succès</th>\n",
       "      <td>650075.56</td>\n",
       "      <td>17800.48</td>\n",
       "      <td>17800481.00</td>\n",
       "      <td>1066</td>\n",
       "    </tr>\n",
       "    <tr>\n",
       "      <th>2024-12-12</th>\n",
       "      <th>succès</th>\n",
       "      <td>1260288.90</td>\n",
       "      <td>36410.75</td>\n",
       "      <td>36410749.00</td>\n",
       "      <td>2029</td>\n",
       "    </tr>\n",
       "    <tr>\n",
       "      <th>2024-12-13</th>\n",
       "      <th>succès</th>\n",
       "      <td>647711.83</td>\n",
       "      <td>18876.15</td>\n",
       "      <td>18876153.00</td>\n",
       "      <td>757</td>\n",
       "    </tr>\n",
       "    <tr>\n",
       "      <th>Total</th>\n",
       "      <th></th>\n",
       "      <td>2583800.29</td>\n",
       "      <td>73959.48</td>\n",
       "      <td>73959478.00</td>\n",
       "      <td>3923</td>\n",
       "    </tr>\n",
       "  </tbody>\n",
       "</table>\n",
       "</div>"
      ],
      "text/plain": [
       "                    FraisPmt  Fraisop     Montant  Nombre\n",
       "DATEOP     Statut                                        \n",
       "2024-12-09 succès   25724.01   872.10   872095.00      71\n",
       "2024-12-10 succès  650075.56 17800.48 17800481.00    1066\n",
       "2024-12-12 succès 1260288.90 36410.75 36410749.00    2029\n",
       "2024-12-13 succès  647711.83 18876.15 18876153.00     757\n",
       "Total             2583800.29 73959.48 73959478.00    3923"
      ]
     },
     "execution_count": 151,
     "metadata": {},
     "output_type": "execute_result"
    }
   ],
   "source": [
    "tcdpmt"
   ]
  },
  {
   "cell_type": "code",
   "execution_count": 152,
   "id": "fa741cfa-3019-4c9f-b6f4-ead066f46ff6",
   "metadata": {},
   "outputs": [
    {
     "data": {
      "text/html": [
       "<div>\n",
       "<style scoped>\n",
       "    .dataframe tbody tr th:only-of-type {\n",
       "        vertical-align: middle;\n",
       "    }\n",
       "\n",
       "    .dataframe tbody tr th {\n",
       "        vertical-align: top;\n",
       "    }\n",
       "\n",
       "    .dataframe thead th {\n",
       "        text-align: right;\n",
       "    }\n",
       "</style>\n",
       "<table border=\"1\" class=\"dataframe\">\n",
       "  <thead>\n",
       "    <tr style=\"text-align: right;\">\n",
       "      <th></th>\n",
       "      <th></th>\n",
       "      <th>Amount</th>\n",
       "      <th>Nombre</th>\n",
       "    </tr>\n",
       "    <tr>\n",
       "      <th>DateCourte</th>\n",
       "      <th>Status</th>\n",
       "      <th></th>\n",
       "      <th></th>\n",
       "    </tr>\n",
       "  </thead>\n",
       "  <tbody>\n",
       "    <tr>\n",
       "      <th>2024-12-09</th>\n",
       "      <th>Successful</th>\n",
       "      <td>-872095</td>\n",
       "      <td>71</td>\n",
       "    </tr>\n",
       "    <tr>\n",
       "      <th>2024-12-10</th>\n",
       "      <th>Successful</th>\n",
       "      <td>-17800481</td>\n",
       "      <td>1066</td>\n",
       "    </tr>\n",
       "    <tr>\n",
       "      <th>2024-12-12</th>\n",
       "      <th>Successful</th>\n",
       "      <td>-36410749</td>\n",
       "      <td>2029</td>\n",
       "    </tr>\n",
       "    <tr>\n",
       "      <th>2024-12-13</th>\n",
       "      <th>Successful</th>\n",
       "      <td>-18876153</td>\n",
       "      <td>757</td>\n",
       "    </tr>\n",
       "    <tr>\n",
       "      <th>Total</th>\n",
       "      <th></th>\n",
       "      <td>-73959478</td>\n",
       "      <td>3923</td>\n",
       "    </tr>\n",
       "  </tbody>\n",
       "</table>\n",
       "</div>"
      ],
      "text/plain": [
       "                         Amount  Nombre\n",
       "DateCourte Status                      \n",
       "2024-12-09 Successful   -872095      71\n",
       "2024-12-10 Successful -17800481    1066\n",
       "2024-12-12 Successful -36410749    2029\n",
       "2024-12-13 Successful -18876153     757\n",
       "Total                 -73959478    3923"
      ]
     },
     "execution_count": 152,
     "metadata": {},
     "output_type": "execute_result"
    }
   ],
   "source": [
    "tcdmtn"
   ]
  },
  {
   "cell_type": "markdown",
   "id": "8591f065-0c0d-4666-b9a4-5e29798c27cb",
   "metadata": {},
   "source": [
    "TRANSACTION A METTRE A SUCCES"
   ]
  },
  {
   "cell_type": "code",
   "execution_count": 111,
   "id": "2bbcf1c1-9c56-4a86-9e20-00577ca8866c",
   "metadata": {},
   "outputs": [],
   "source": [
    "maj_pending = dfpmt1.loc[(dfpmt1['Statut'] == 'en attente') & (dfpmt1['MTN'] == 1)]"
   ]
  },
  {
   "cell_type": "code",
   "execution_count": 112,
   "id": "4d47ffdc-76b6-40df-a772-8ffc37c802bb",
   "metadata": {},
   "outputs": [
    {
     "data": {
      "text/html": [
       "<div>\n",
       "<style scoped>\n",
       "    .dataframe tbody tr th:only-of-type {\n",
       "        vertical-align: middle;\n",
       "    }\n",
       "\n",
       "    .dataframe tbody tr th {\n",
       "        vertical-align: top;\n",
       "    }\n",
       "\n",
       "    .dataframe thead th {\n",
       "        text-align: right;\n",
       "    }\n",
       "</style>\n",
       "<table border=\"1\" class=\"dataframe\">\n",
       "  <thead>\n",
       "    <tr style=\"text-align: right;\">\n",
       "      <th></th>\n",
       "      <th>Created Date</th>\n",
       "      <th>Payment Date</th>\n",
       "      <th>Operator</th>\n",
       "      <th>Nom du Marchand</th>\n",
       "      <th>Transaction ID</th>\n",
       "      <th>ID Opérateur</th>\n",
       "      <th>Numéro de téléphone</th>\n",
       "      <th>Montant</th>\n",
       "      <th>Fee amount</th>\n",
       "      <th>Merchant amount</th>\n",
       "      <th>Statut</th>\n",
       "      <th>DateCourte</th>\n",
       "      <th>DATEOP</th>\n",
       "      <th>STATUTOP</th>\n",
       "      <th>IDOPERATOR</th>\n",
       "      <th>Fraisop</th>\n",
       "      <th>FraisPmt</th>\n",
       "      <th>MTN</th>\n",
       "      <th>Nombre</th>\n",
       "    </tr>\n",
       "  </thead>\n",
       "  <tbody>\n",
       "  </tbody>\n",
       "</table>\n",
       "</div>"
      ],
      "text/plain": [
       "Empty DataFrame\n",
       "Columns: [Created Date, Payment Date, Operator, Nom du Marchand, Transaction ID, ID Opérateur, Numéro de téléphone, Montant, Fee amount, Merchant amount, Statut, DateCourte, DATEOP, STATUTOP, IDOPERATOR, Fraisop, FraisPmt, MTN, Nombre]\n",
       "Index: []"
      ]
     },
     "execution_count": 112,
     "metadata": {},
     "output_type": "execute_result"
    }
   ],
   "source": [
    "maj_pending"
   ]
  },
  {
   "cell_type": "code",
   "execution_count": 113,
   "id": "ba1eefef-a97b-4d91-865f-c0a3f6b7e097",
   "metadata": {},
   "outputs": [
    {
     "data": {
      "text/html": [
       "<div>\n",
       "<style scoped>\n",
       "    .dataframe tbody tr th:only-of-type {\n",
       "        vertical-align: middle;\n",
       "    }\n",
       "\n",
       "    .dataframe tbody tr th {\n",
       "        vertical-align: top;\n",
       "    }\n",
       "\n",
       "    .dataframe thead th {\n",
       "        text-align: right;\n",
       "    }\n",
       "</style>\n",
       "<table border=\"1\" class=\"dataframe\">\n",
       "  <thead>\n",
       "    <tr style=\"text-align: right;\">\n",
       "      <th></th>\n",
       "      <th>Created Date</th>\n",
       "      <th>Payment Date</th>\n",
       "      <th>Operator</th>\n",
       "      <th>Nom du Marchand</th>\n",
       "      <th>Transaction ID</th>\n",
       "      <th>ID Opérateur</th>\n",
       "      <th>Numéro de téléphone</th>\n",
       "      <th>Montant</th>\n",
       "      <th>Fee amount</th>\n",
       "      <th>Merchant amount</th>\n",
       "      <th>Statut</th>\n",
       "      <th>DateCourte</th>\n",
       "      <th>DATEOP</th>\n",
       "      <th>STATUTOP</th>\n",
       "      <th>IDOPERATOR</th>\n",
       "      <th>Fraisop</th>\n",
       "      <th>FraisPmt</th>\n",
       "      <th>MTN</th>\n",
       "      <th>Nombre</th>\n",
       "    </tr>\n",
       "  </thead>\n",
       "  <tbody>\n",
       "  </tbody>\n",
       "</table>\n",
       "</div>"
      ],
      "text/plain": [
       "Empty DataFrame\n",
       "Columns: [Created Date, Payment Date, Operator, Nom du Marchand, Transaction ID, ID Opérateur, Numéro de téléphone, Montant, Fee amount, Merchant amount, Statut, DateCourte, DATEOP, STATUTOP, IDOPERATOR, Fraisop, FraisPmt, MTN, Nombre]\n",
       "Index: []"
      ]
     },
     "execution_count": 113,
     "metadata": {},
     "output_type": "execute_result"
    }
   ],
   "source": [
    "pertes =  dfpmt1.loc[(dfpmt1['Statut'] == 'échec') & (dfpmt1['MTN'] == 1)]\n",
    "pertes"
   ]
  },
  {
   "cell_type": "markdown",
   "id": "1ceef9eb-d03b-4bfa-813d-53deb4671222",
   "metadata": {},
   "source": [
    "TRANSACTION SUCCES CHEZ MTN A RECHERCEHR"
   ]
  },
  {
   "cell_type": "code",
   "execution_count": 114,
   "id": "0262dc0b-663d-4c19-a240-cfbd0f8db19f",
   "metadata": {},
   "outputs": [
    {
     "data": {
      "text/html": [
       "<div>\n",
       "<style scoped>\n",
       "    .dataframe tbody tr th:only-of-type {\n",
       "        vertical-align: middle;\n",
       "    }\n",
       "\n",
       "    .dataframe tbody tr th {\n",
       "        vertical-align: top;\n",
       "    }\n",
       "\n",
       "    .dataframe thead th {\n",
       "        text-align: right;\n",
       "    }\n",
       "</style>\n",
       "<table border=\"1\" class=\"dataframe\">\n",
       "  <thead>\n",
       "    <tr style=\"text-align: right;\">\n",
       "      <th></th>\n",
       "      <th>Id</th>\n",
       "      <th>External id</th>\n",
       "      <th>Date</th>\n",
       "      <th>Status</th>\n",
       "      <th>Type</th>\n",
       "      <th>Amount</th>\n",
       "      <th>Currency.14</th>\n",
       "      <th>From name</th>\n",
       "      <th>From handler name</th>\n",
       "      <th>DateCourte</th>\n",
       "      <th>PMT</th>\n",
       "      <th>Nombre</th>\n",
       "    </tr>\n",
       "  </thead>\n",
       "  <tbody>\n",
       "  </tbody>\n",
       "</table>\n",
       "</div>"
      ],
      "text/plain": [
       "Empty DataFrame\n",
       "Columns: [Id, External id, Date, Status, Type, Amount, Currency.14, From name, From handler name, DateCourte, PMT, Nombre]\n",
       "Index: []"
      ]
     },
     "execution_count": 114,
     "metadata": {},
     "output_type": "execute_result"
    }
   ],
   "source": [
    "trx_succes_a_rechercher = transfert.loc[(transfert['PMT'] == 0)]\n",
    "trx_succes_a_rechercher.head()"
   ]
  },
  {
   "cell_type": "markdown",
   "id": "95e8d611-06a5-4026-858b-26b9830e3c25",
   "metadata": {},
   "source": [
    "TRANSACTION SUCCES PMT ABSENT MTNCM"
   ]
  },
  {
   "cell_type": "code",
   "execution_count": 115,
   "id": "ea53a409-0d2a-48cc-8260-4b7b3ff12bc3",
   "metadata": {},
   "outputs": [
    {
     "data": {
      "text/html": [
       "<div>\n",
       "<style scoped>\n",
       "    .dataframe tbody tr th:only-of-type {\n",
       "        vertical-align: middle;\n",
       "    }\n",
       "\n",
       "    .dataframe tbody tr th {\n",
       "        vertical-align: top;\n",
       "    }\n",
       "\n",
       "    .dataframe thead th {\n",
       "        text-align: right;\n",
       "    }\n",
       "</style>\n",
       "<table border=\"1\" class=\"dataframe\">\n",
       "  <thead>\n",
       "    <tr style=\"text-align: right;\">\n",
       "      <th></th>\n",
       "      <th>Created Date</th>\n",
       "      <th>Payment Date</th>\n",
       "      <th>Operator</th>\n",
       "      <th>Nom du Marchand</th>\n",
       "      <th>Transaction ID</th>\n",
       "      <th>ID Opérateur</th>\n",
       "      <th>Numéro de téléphone</th>\n",
       "      <th>Montant</th>\n",
       "      <th>Fee amount</th>\n",
       "      <th>Merchant amount</th>\n",
       "      <th>Statut</th>\n",
       "      <th>DateCourte</th>\n",
       "      <th>DATEOP</th>\n",
       "      <th>STATUTOP</th>\n",
       "      <th>IDOPERATOR</th>\n",
       "      <th>Fraisop</th>\n",
       "      <th>FraisPmt</th>\n",
       "      <th>MTN</th>\n",
       "      <th>Nombre</th>\n",
       "    </tr>\n",
       "  </thead>\n",
       "  <tbody>\n",
       "  </tbody>\n",
       "</table>\n",
       "</div>"
      ],
      "text/plain": [
       "Empty DataFrame\n",
       "Columns: [Created Date, Payment Date, Operator, Nom du Marchand, Transaction ID, ID Opérateur, Numéro de téléphone, Montant, Fee amount, Merchant amount, Statut, DateCourte, DATEOP, STATUTOP, IDOPERATOR, Fraisop, FraisPmt, MTN, Nombre]\n",
       "Index: []"
      ]
     },
     "execution_count": 115,
     "metadata": {},
     "output_type": "execute_result"
    }
   ],
   "source": [
    "trx_succes_abs_mtn = dfpmt1.loc[(dfpmt1['MTN'] == 0) & (dfpmt1['Statut'] == 'succès') & (dfpmt1['DateCourte'] == '2024-12-12')]\n",
    "trx_succes_abs_mtn"
   ]
  },
  {
   "cell_type": "markdown",
   "id": "67a07187-ed70-4969-8bf0-e7bea1ed74d0",
   "metadata": {},
   "source": [
    "TRANSACTION EN ATTENTE PMT ABSENTE MTNCM"
   ]
  },
  {
   "cell_type": "code",
   "execution_count": 116,
   "id": "f575325b-938c-4b1b-adcb-c1d4206e6822",
   "metadata": {},
   "outputs": [
    {
     "data": {
      "text/html": [
       "<div>\n",
       "<style scoped>\n",
       "    .dataframe tbody tr th:only-of-type {\n",
       "        vertical-align: middle;\n",
       "    }\n",
       "\n",
       "    .dataframe tbody tr th {\n",
       "        vertical-align: top;\n",
       "    }\n",
       "\n",
       "    .dataframe thead th {\n",
       "        text-align: right;\n",
       "    }\n",
       "</style>\n",
       "<table border=\"1\" class=\"dataframe\">\n",
       "  <thead>\n",
       "    <tr style=\"text-align: right;\">\n",
       "      <th></th>\n",
       "      <th>Created Date</th>\n",
       "      <th>Payment Date</th>\n",
       "      <th>Operator</th>\n",
       "      <th>Nom du Marchand</th>\n",
       "      <th>Transaction ID</th>\n",
       "      <th>ID Opérateur</th>\n",
       "      <th>Numéro de téléphone</th>\n",
       "      <th>Montant</th>\n",
       "      <th>Fee amount</th>\n",
       "      <th>Merchant amount</th>\n",
       "      <th>Statut</th>\n",
       "      <th>DateCourte</th>\n",
       "      <th>DATEOP</th>\n",
       "      <th>STATUTOP</th>\n",
       "      <th>IDOPERATOR</th>\n",
       "      <th>Fraisop</th>\n",
       "      <th>FraisPmt</th>\n",
       "      <th>MTN</th>\n",
       "      <th>Nombre</th>\n",
       "    </tr>\n",
       "  </thead>\n",
       "  <tbody>\n",
       "  </tbody>\n",
       "</table>\n",
       "</div>"
      ],
      "text/plain": [
       "Empty DataFrame\n",
       "Columns: [Created Date, Payment Date, Operator, Nom du Marchand, Transaction ID, ID Opérateur, Numéro de téléphone, Montant, Fee amount, Merchant amount, Statut, DateCourte, DATEOP, STATUTOP, IDOPERATOR, Fraisop, FraisPmt, MTN, Nombre]\n",
       "Index: []"
      ]
     },
     "execution_count": 116,
     "metadata": {},
     "output_type": "execute_result"
    }
   ],
   "source": [
    "trx_pending_abs_mtn = dfpmt1.loc[(dfpmt1['MTN'] == 0) & (dfpmt1['Statut'] == 'en attente')]\n",
    "trx_pending_abs_mtn"
   ]
  },
  {
   "cell_type": "code",
   "execution_count": 117,
   "id": "32a4ffe6-89dc-4dba-8197-2cdfc201d7e4",
   "metadata": {},
   "outputs": [
    {
     "data": {
      "text/html": [
       "<div>\n",
       "<style scoped>\n",
       "    .dataframe tbody tr th:only-of-type {\n",
       "        vertical-align: middle;\n",
       "    }\n",
       "\n",
       "    .dataframe tbody tr th {\n",
       "        vertical-align: top;\n",
       "    }\n",
       "\n",
       "    .dataframe thead th {\n",
       "        text-align: right;\n",
       "    }\n",
       "</style>\n",
       "<table border=\"1\" class=\"dataframe\">\n",
       "  <thead>\n",
       "    <tr style=\"text-align: right;\">\n",
       "      <th></th>\n",
       "      <th>Created Date</th>\n",
       "      <th>Payment Date</th>\n",
       "      <th>Operator</th>\n",
       "      <th>Nom du Marchand</th>\n",
       "      <th>Transaction ID</th>\n",
       "      <th>ID Opérateur</th>\n",
       "      <th>Numéro de téléphone</th>\n",
       "      <th>Montant</th>\n",
       "      <th>Fee amount</th>\n",
       "      <th>Merchant amount</th>\n",
       "      <th>Statut</th>\n",
       "      <th>DateCourte</th>\n",
       "      <th>DATEOP</th>\n",
       "      <th>STATUTOP</th>\n",
       "      <th>IDOPERATOR</th>\n",
       "      <th>Fraisop</th>\n",
       "      <th>FraisPmt</th>\n",
       "      <th>MTN</th>\n",
       "      <th>Nombre</th>\n",
       "    </tr>\n",
       "  </thead>\n",
       "  <tbody>\n",
       "  </tbody>\n",
       "</table>\n",
       "</div>"
      ],
      "text/plain": [
       "Empty DataFrame\n",
       "Columns: [Created Date, Payment Date, Operator, Nom du Marchand, Transaction ID, ID Opérateur, Numéro de téléphone, Montant, Fee amount, Merchant amount, Statut, DateCourte, DATEOP, STATUTOP, IDOPERATOR, Fraisop, FraisPmt, MTN, Nombre]\n",
       "Index: []"
      ]
     },
     "execution_count": 117,
     "metadata": {},
     "output_type": "execute_result"
    }
   ],
   "source": [
    "trx_pending_abs_mtn"
   ]
  },
  {
   "cell_type": "code",
   "execution_count": 118,
   "id": "a18827f8-2fb0-490e-8979-b2c425218095",
   "metadata": {},
   "outputs": [
    {
     "data": {
      "text/html": [
       "<div>\n",
       "<style scoped>\n",
       "    .dataframe tbody tr th:only-of-type {\n",
       "        vertical-align: middle;\n",
       "    }\n",
       "\n",
       "    .dataframe tbody tr th {\n",
       "        vertical-align: top;\n",
       "    }\n",
       "\n",
       "    .dataframe thead th {\n",
       "        text-align: right;\n",
       "    }\n",
       "</style>\n",
       "<table border=\"1\" class=\"dataframe\">\n",
       "  <thead>\n",
       "    <tr style=\"text-align: right;\">\n",
       "      <th></th>\n",
       "      <th>Created Date</th>\n",
       "      <th>Payment Date</th>\n",
       "      <th>Operator</th>\n",
       "      <th>Nom du Marchand</th>\n",
       "      <th>Transaction ID</th>\n",
       "      <th>ID Opérateur</th>\n",
       "      <th>Numéro de téléphone</th>\n",
       "      <th>Montant</th>\n",
       "      <th>Fee amount</th>\n",
       "      <th>Merchant amount</th>\n",
       "      <th>Statut</th>\n",
       "      <th>DateCourte</th>\n",
       "      <th>DATEOP</th>\n",
       "      <th>STATUTOP</th>\n",
       "      <th>IDOPERATOR</th>\n",
       "      <th>Fraisop</th>\n",
       "      <th>FraisPmt</th>\n",
       "      <th>MTN</th>\n",
       "      <th>Nombre</th>\n",
       "    </tr>\n",
       "  </thead>\n",
       "  <tbody>\n",
       "  </tbody>\n",
       "</table>\n",
       "</div>"
      ],
      "text/plain": [
       "Empty DataFrame\n",
       "Columns: [Created Date, Payment Date, Operator, Nom du Marchand, Transaction ID, ID Opérateur, Numéro de téléphone, Montant, Fee amount, Merchant amount, Statut, DateCourte, DATEOP, STATUTOP, IDOPERATOR, Fraisop, FraisPmt, MTN, Nombre]\n",
       "Index: []"
      ]
     },
     "execution_count": 118,
     "metadata": {},
     "output_type": "execute_result"
    }
   ],
   "source": [
    "perte_syst = dfpmt1.loc[(dfpmt1['MTN'] == 1) & (dfpmt1['Statut'] == 'échec')]\n",
    "perte_syst"
   ]
  },
  {
   "cell_type": "code",
   "execution_count": 119,
   "id": "7cd3d853-d729-4728-a98e-f9a825dd9041",
   "metadata": {},
   "outputs": [],
   "source": [
    "# Enregistrer les données filtrées dans un fichier Excel\n",
    "\n",
    "# Enregistrer les données filtrées dans un fichier Excel\n",
    "\n",
    "#output_file_path = 'D:/RECO/OMSN/PAYIN/MAJ/trx_a_mettre_ajour.xlsx'\n",
    "#maj.to_excel(output_file_path, index=False)\n",
    "\n",
    "#print(f\"Fichier enregistré sous : {output_file_path}\")\n"
   ]
  },
  {
   "cell_type": "markdown",
   "id": "aab4f05c-93ee-4add-be07-7e968da553d8",
   "metadata": {},
   "source": [
    "CREATION DU FICHIER D'ANALYSE"
   ]
  },
  {
   "cell_type": "code",
   "execution_count": 120,
   "id": "47aec3ba-50b1-44c2-b9d6-f5b50a1eb5cb",
   "metadata": {},
   "outputs": [
    {
     "name": "stdout",
     "output_type": "stream",
     "text": [
      "Feuille: DATA PMT - Nombre de lignes: 5917\n",
      "Feuille: data op - Nombre de lignes: 3924\n",
      "Feuille: pertes_syst - Nombre de lignes: 0\n",
      "Feuille: maj_pending - Nombre de lignes: 0\n",
      "Feuille: trxenattente_abs - Nombre de lignes: 0\n",
      "Feuille: trx_succes_mtn_abs_pmt - Nombre de lignes: 0\n",
      "Fichier Excel avec plusieurs feuilles sauvegardé avec succès: D:/RECO/MTNCM/PAYOUT/RECAPANALYSE/DEC\\20241217_145543_RAPPORT_ANALYSE_20241209_20241215.xlsx\n"
     ]
    }
   ],
   "source": [
    "report_date = \"20241209_20241215\"\n",
    "# Générer automatiquement le chemin de sortie avec la date actuelle\n",
    "current_date = datetime.now().strftime(\"%Y%m%d_%H%M%S\")\n",
    "output_dir = 'D:/RECO/MTNCM/PAYOUT/RECAPANALYSE/DEC'\n",
    "output_file_name = f\"{current_date}_RAPPORT_ANALYSE_{report_date}.xlsx\"\n",
    "output_file_path = os.path.join(output_dir, output_file_name)\n",
    "\n",
    "# Création de DataFrames d'exemple\n",
    "data_pmt = dfpmt1\n",
    "data_op = dfmtn\n",
    "pertes = perte_syst\n",
    "maj_jour_pending = maj_pending\n",
    "trxenattente_abs = trx_pending_abs_mtn\n",
    "trx_succs_mtn_abs_pmt=trx_succes_a_rechercher\n",
    "\n",
    "# Dictionnaire de DataFramess\n",
    "feuilles = {\n",
    "    'DATA PMT': data_pmt,\n",
    "    'data op': data_op,\n",
    "    'pertes_syst': pertes,\n",
    "    'maj_pending': maj_jour_pending,\n",
    "    'trxenattente_abs': trxenattente_abs,\n",
    "    'trx_succes_mtn_abs_pmt':trx_succs_mtn_abs_pmt\n",
    "}\n",
    "\n",
    "# Affichage du nombre de lignes pour chaque DataFrame\n",
    "for nom_feuille, df in feuilles.items():\n",
    "    print(f\"Feuille: {nom_feuille} - Nombre de lignes: {len(df)}\")\n",
    "\n",
    "# Création de l'objet ExcelWriter\n",
    "with pd.ExcelWriter(output_file_path, engine='openpyxl') as writer:\n",
    "    for nom_feuille, df in feuilles.items():\n",
    "        df.to_excel(writer, sheet_name=f\"{nom_feuille} ({len(df)} lignes)\", index=False)\n",
    "\n",
    "print(f\"Fichier Excel avec plusieurs feuilles sauvegardé avec succès: {output_file_path}\")"
   ]
  },
  {
   "cell_type": "code",
   "execution_count": null,
   "id": "0f7e8b9e-7ca3-4d3d-96cf-9cbc8969ab8b",
   "metadata": {},
   "outputs": [],
   "source": []
  },
  {
   "cell_type": "code",
   "execution_count": 121,
   "id": "d03b97c8-bc64-458d-a595-23ce3c581316",
   "metadata": {},
   "outputs": [
    {
     "data": {
      "text/plain": [
       "Statut\n",
       "succès    5669\n",
       "échec      248\n",
       "Name: count, dtype: int64"
      ]
     },
     "execution_count": 121,
     "metadata": {},
     "output_type": "execute_result"
    }
   ],
   "source": [
    "select_statut= dfpmt1['Statut'].value_counts()\n",
    "select_statut"
   ]
  },
  {
   "cell_type": "code",
   "execution_count": 122,
   "id": "4a3c6b86-3ce1-47a7-8db0-cbc5ad2a5bf4",
   "metadata": {},
   "outputs": [],
   "source": [
    "succes= dfpmt1[(dfpmt1['Statut'] == 'succès')]\n",
    "echec =dfpmt1[(dfpmt1['Statut'] == 'échec')]"
   ]
  },
  {
   "cell_type": "code",
   "execution_count": 123,
   "id": "eb9d1b89-7626-47db-8700-3b13dca9bdb4",
   "metadata": {},
   "outputs": [
    {
     "data": {
      "text/html": [
       "<div>\n",
       "<style scoped>\n",
       "    .dataframe tbody tr th:only-of-type {\n",
       "        vertical-align: middle;\n",
       "    }\n",
       "\n",
       "    .dataframe tbody tr th {\n",
       "        vertical-align: top;\n",
       "    }\n",
       "\n",
       "    .dataframe thead th {\n",
       "        text-align: right;\n",
       "    }\n",
       "</style>\n",
       "<table border=\"1\" class=\"dataframe\">\n",
       "  <thead>\n",
       "    <tr style=\"text-align: right;\">\n",
       "      <th></th>\n",
       "      <th>Created Date</th>\n",
       "      <th>Payment Date</th>\n",
       "      <th>Operator</th>\n",
       "      <th>Nom du Marchand</th>\n",
       "      <th>Transaction ID</th>\n",
       "      <th>Numéro de téléphone</th>\n",
       "      <th>DateCourte</th>\n",
       "      <th>DATEOP</th>\n",
       "      <th>Statut</th>\n",
       "      <th>STATUTOP</th>\n",
       "      <th>Montant</th>\n",
       "    </tr>\n",
       "  </thead>\n",
       "  <tbody>\n",
       "    <tr>\n",
       "      <th>0</th>\n",
       "      <td>2024-12-13 08:46:02</td>\n",
       "      <td>NaN</td>\n",
       "      <td>MTN_CM</td>\n",
       "      <td>BetWinner CM</td>\n",
       "      <td>8a1e6d6a-f81c-40a8-89f4-1539f6db160b</td>\n",
       "      <td>237653435558</td>\n",
       "      <td>2024-12-13</td>\n",
       "      <td>2024-12-13</td>\n",
       "      <td>succès</td>\n",
       "      <td>Successful</td>\n",
       "      <td>2000.00</td>\n",
       "    </tr>\n",
       "    <tr>\n",
       "      <th>1</th>\n",
       "      <td>2024-12-13 08:42:02</td>\n",
       "      <td>NaN</td>\n",
       "      <td>MTN_CM</td>\n",
       "      <td>1XBET CM</td>\n",
       "      <td>1c13fb59-1671-41cf-84fa-a92d24af209f</td>\n",
       "      <td>237652170737</td>\n",
       "      <td>2024-12-13</td>\n",
       "      <td>2024-12-13</td>\n",
       "      <td>succès</td>\n",
       "      <td>Successful</td>\n",
       "      <td>6000.00</td>\n",
       "    </tr>\n",
       "  </tbody>\n",
       "</table>\n",
       "</div>"
      ],
      "text/plain": [
       "          Created Date  Payment Date Operator Nom du Marchand  \\\n",
       "0  2024-12-13 08:46:02           NaN   MTN_CM    BetWinner CM   \n",
       "1  2024-12-13 08:42:02           NaN   MTN_CM        1XBET CM   \n",
       "\n",
       "                         Transaction ID  Numéro de téléphone  DateCourte  \\\n",
       "0  8a1e6d6a-f81c-40a8-89f4-1539f6db160b         237653435558  2024-12-13   \n",
       "1  1c13fb59-1671-41cf-84fa-a92d24af209f         237652170737  2024-12-13   \n",
       "\n",
       "       DATEOP  Statut    STATUTOP  Montant  \n",
       "0  2024-12-13  succès  Successful  2000.00  \n",
       "1  2024-12-13  succès  Successful  6000.00  "
      ]
     },
     "execution_count": 123,
     "metadata": {},
     "output_type": "execute_result"
    }
   ],
   "source": [
    "success=succes[['Created Date',\n",
    "           'Payment Date',\n",
    "           'Operator',\n",
    "           'Nom du Marchand',\n",
    "           'Transaction ID',\n",
    "           'Numéro de téléphone',\n",
    "           'DateCourte',\n",
    "           'DATEOP',\n",
    "           'Statut',\n",
    "           'STATUTOP',\n",
    "           'Montant'\n",
    "]]\n",
    "success.head(2)"
   ]
  },
  {
   "cell_type": "code",
   "execution_count": 124,
   "id": "f46d8958-085c-4d1c-95c7-791548ccdfbb",
   "metadata": {},
   "outputs": [
    {
     "data": {
      "text/html": [
       "<div>\n",
       "<style scoped>\n",
       "    .dataframe tbody tr th:only-of-type {\n",
       "        vertical-align: middle;\n",
       "    }\n",
       "\n",
       "    .dataframe tbody tr th {\n",
       "        vertical-align: top;\n",
       "    }\n",
       "\n",
       "    .dataframe thead th {\n",
       "        text-align: right;\n",
       "    }\n",
       "</style>\n",
       "<table border=\"1\" class=\"dataframe\">\n",
       "  <thead>\n",
       "    <tr style=\"text-align: right;\">\n",
       "      <th></th>\n",
       "      <th>Created Date</th>\n",
       "      <th>Payment Date</th>\n",
       "      <th>Operator</th>\n",
       "      <th>Nom du Marchand</th>\n",
       "      <th>Transaction ID</th>\n",
       "      <th>Numéro de téléphone</th>\n",
       "      <th>DateCourte</th>\n",
       "      <th>DATEOP</th>\n",
       "      <th>Statut</th>\n",
       "      <th>STATUTOP</th>\n",
       "      <th>Montant</th>\n",
       "    </tr>\n",
       "  </thead>\n",
       "  <tbody>\n",
       "    <tr>\n",
       "      <th>412</th>\n",
       "      <td>2024-12-13 05:28:26</td>\n",
       "      <td>NaN</td>\n",
       "      <td>MTN_CM</td>\n",
       "      <td>1XBET CM</td>\n",
       "      <td>6637fbdf-b10c-4b21-a25d-220e9fef8f45</td>\n",
       "      <td>237688304593</td>\n",
       "      <td>2024-12-13</td>\n",
       "      <td>NaN</td>\n",
       "      <td>échec</td>\n",
       "      <td>NaN</td>\n",
       "      <td>1500.00</td>\n",
       "    </tr>\n",
       "    <tr>\n",
       "      <th>627</th>\n",
       "      <td>2024-12-13 03:10:55</td>\n",
       "      <td>NaN</td>\n",
       "      <td>MTN_CM</td>\n",
       "      <td>Goldpari CM</td>\n",
       "      <td>14611039-51ad-44c7-ba7f-9d0773e35019</td>\n",
       "      <td>237696862653</td>\n",
       "      <td>2024-12-13</td>\n",
       "      <td>NaN</td>\n",
       "      <td>échec</td>\n",
       "      <td>NaN</td>\n",
       "      <td>6000.00</td>\n",
       "    </tr>\n",
       "  </tbody>\n",
       "</table>\n",
       "</div>"
      ],
      "text/plain": [
       "            Created Date  Payment Date Operator Nom du Marchand  \\\n",
       "412  2024-12-13 05:28:26           NaN   MTN_CM        1XBET CM   \n",
       "627  2024-12-13 03:10:55           NaN   MTN_CM     Goldpari CM   \n",
       "\n",
       "                           Transaction ID  Numéro de téléphone  DateCourte  \\\n",
       "412  6637fbdf-b10c-4b21-a25d-220e9fef8f45         237688304593  2024-12-13   \n",
       "627  14611039-51ad-44c7-ba7f-9d0773e35019         237696862653  2024-12-13   \n",
       "\n",
       "    DATEOP Statut STATUTOP  Montant  \n",
       "412    NaN  échec      NaN  1500.00  \n",
       "627    NaN  échec      NaN  6000.00  "
      ]
     },
     "execution_count": 124,
     "metadata": {},
     "output_type": "execute_result"
    }
   ],
   "source": [
    "echecs=echec[['Created Date',\n",
    "           'Payment Date',\n",
    "           'Operator',\n",
    "           'Nom du Marchand',\n",
    "           'Transaction ID',\n",
    "           'Numéro de téléphone',\n",
    "           'DateCourte',\n",
    "           'DATEOP',\n",
    "           'Statut',\n",
    "           'STATUTOP',\n",
    "           'Montant'\n",
    "]]\n",
    "echecs.head(2)"
   ]
  },
  {
   "cell_type": "code",
   "execution_count": 125,
   "id": "96d34021-e986-4c75-8de7-19dd9f16ebca",
   "metadata": {},
   "outputs": [
    {
     "data": {
      "text/html": [
       "<div>\n",
       "<style scoped>\n",
       "    .dataframe tbody tr th:only-of-type {\n",
       "        vertical-align: middle;\n",
       "    }\n",
       "\n",
       "    .dataframe tbody tr th {\n",
       "        vertical-align: top;\n",
       "    }\n",
       "\n",
       "    .dataframe thead th {\n",
       "        text-align: right;\n",
       "    }\n",
       "</style>\n",
       "<table border=\"1\" class=\"dataframe\">\n",
       "  <thead>\n",
       "    <tr style=\"text-align: right;\">\n",
       "      <th></th>\n",
       "      <th>DateCourte</th>\n",
       "      <th>STATUTOP</th>\n",
       "      <th>Montant</th>\n",
       "    </tr>\n",
       "  </thead>\n",
       "  <tbody>\n",
       "    <tr>\n",
       "      <th>0</th>\n",
       "      <td>2024-12-09</td>\n",
       "      <td>Successful</td>\n",
       "      <td>500.00</td>\n",
       "    </tr>\n",
       "    <tr>\n",
       "      <th>1</th>\n",
       "      <td>2024-12-10</td>\n",
       "      <td>Successful</td>\n",
       "      <td>500.00</td>\n",
       "    </tr>\n",
       "    <tr>\n",
       "      <th>2</th>\n",
       "      <td>2024-12-12</td>\n",
       "      <td>Successful</td>\n",
       "      <td>500.00</td>\n",
       "    </tr>\n",
       "    <tr>\n",
       "      <th>3</th>\n",
       "      <td>2024-12-13</td>\n",
       "      <td>Successful</td>\n",
       "      <td>500.00</td>\n",
       "    </tr>\n",
       "  </tbody>\n",
       "</table>\n",
       "</div>"
      ],
      "text/plain": [
       "   DateCourte    STATUTOP  Montant\n",
       "0  2024-12-09  Successful   500.00\n",
       "1  2024-12-10  Successful   500.00\n",
       "2  2024-12-12  Successful   500.00\n",
       "3  2024-12-13  Successful   500.00"
      ]
     },
     "execution_count": 125,
     "metadata": {},
     "output_type": "execute_result"
    }
   ],
   "source": [
    "select_success_min = success.groupby(['DateCourte','STATUTOP'])['Montant'].min()\n",
    "select_success_min.reset_index()"
   ]
  },
  {
   "cell_type": "code",
   "execution_count": 126,
   "id": "b8e82226-e503-4728-a230-4799c8d7dd52",
   "metadata": {},
   "outputs": [
    {
     "data": {
      "text/html": [
       "<div>\n",
       "<style scoped>\n",
       "    .dataframe tbody tr th:only-of-type {\n",
       "        vertical-align: middle;\n",
       "    }\n",
       "\n",
       "    .dataframe tbody tr th {\n",
       "        vertical-align: top;\n",
       "    }\n",
       "\n",
       "    .dataframe thead th {\n",
       "        text-align: right;\n",
       "    }\n",
       "</style>\n",
       "<table border=\"1\" class=\"dataframe\">\n",
       "  <thead>\n",
       "    <tr style=\"text-align: right;\">\n",
       "      <th></th>\n",
       "      <th>DateCourte</th>\n",
       "      <th>STATUTOP</th>\n",
       "      <th>Montant</th>\n",
       "    </tr>\n",
       "  </thead>\n",
       "  <tbody>\n",
       "    <tr>\n",
       "      <th>0</th>\n",
       "      <td>2024-12-09</td>\n",
       "      <td>Successful</td>\n",
       "      <td>175000.00</td>\n",
       "    </tr>\n",
       "    <tr>\n",
       "      <th>1</th>\n",
       "      <td>2024-12-10</td>\n",
       "      <td>Successful</td>\n",
       "      <td>1319500.00</td>\n",
       "    </tr>\n",
       "    <tr>\n",
       "      <th>2</th>\n",
       "      <td>2024-12-12</td>\n",
       "      <td>Successful</td>\n",
       "      <td>800000.00</td>\n",
       "    </tr>\n",
       "    <tr>\n",
       "      <th>3</th>\n",
       "      <td>2024-12-13</td>\n",
       "      <td>Successful</td>\n",
       "      <td>550000.00</td>\n",
       "    </tr>\n",
       "  </tbody>\n",
       "</table>\n",
       "</div>"
      ],
      "text/plain": [
       "   DateCourte    STATUTOP    Montant\n",
       "0  2024-12-09  Successful  175000.00\n",
       "1  2024-12-10  Successful 1319500.00\n",
       "2  2024-12-12  Successful  800000.00\n",
       "3  2024-12-13  Successful  550000.00"
      ]
     },
     "execution_count": 126,
     "metadata": {},
     "output_type": "execute_result"
    }
   ],
   "source": [
    "select_success_max = success.groupby(['DateCourte','STATUTOP'])['Montant'].max()\n",
    "select_success_max.reset_index()"
   ]
  },
  {
   "cell_type": "code",
   "execution_count": 127,
   "id": "e4b71dab-5b91-4a2b-b3e9-2e7cd674ce9c",
   "metadata": {},
   "outputs": [
    {
     "data": {
      "text/html": [
       "<div>\n",
       "<style scoped>\n",
       "    .dataframe tbody tr th:only-of-type {\n",
       "        vertical-align: middle;\n",
       "    }\n",
       "\n",
       "    .dataframe tbody tr th {\n",
       "        vertical-align: top;\n",
       "    }\n",
       "\n",
       "    .dataframe thead th {\n",
       "        text-align: right;\n",
       "    }\n",
       "</style>\n",
       "<table border=\"1\" class=\"dataframe\">\n",
       "  <thead>\n",
       "    <tr style=\"text-align: right;\">\n",
       "      <th></th>\n",
       "      <th>DateCourte</th>\n",
       "      <th>Montant</th>\n",
       "    </tr>\n",
       "  </thead>\n",
       "  <tbody>\n",
       "    <tr>\n",
       "      <th>0</th>\n",
       "      <td>2024-12-08</td>\n",
       "      <td>1000.00</td>\n",
       "    </tr>\n",
       "    <tr>\n",
       "      <th>1</th>\n",
       "      <td>2024-12-09</td>\n",
       "      <td>500.00</td>\n",
       "    </tr>\n",
       "    <tr>\n",
       "      <th>2</th>\n",
       "      <td>2024-12-10</td>\n",
       "      <td>900.00</td>\n",
       "    </tr>\n",
       "    <tr>\n",
       "      <th>3</th>\n",
       "      <td>2024-12-12</td>\n",
       "      <td>1000.00</td>\n",
       "    </tr>\n",
       "    <tr>\n",
       "      <th>4</th>\n",
       "      <td>2024-12-13</td>\n",
       "      <td>1500.00</td>\n",
       "    </tr>\n",
       "  </tbody>\n",
       "</table>\n",
       "</div>"
      ],
      "text/plain": [
       "   DateCourte  Montant\n",
       "0  2024-12-08  1000.00\n",
       "1  2024-12-09   500.00\n",
       "2  2024-12-10   900.00\n",
       "3  2024-12-12  1000.00\n",
       "4  2024-12-13  1500.00"
      ]
     },
     "execution_count": 127,
     "metadata": {},
     "output_type": "execute_result"
    }
   ],
   "source": [
    "select_echec_min = echecs.groupby('DateCourte')['Montant'].min()\n",
    "select_echec_min.reset_index()"
   ]
  },
  {
   "cell_type": "code",
   "execution_count": 128,
   "id": "a412d471-5873-4a57-87b3-b42ec2f406cb",
   "metadata": {},
   "outputs": [
    {
     "data": {
      "text/html": [
       "<div>\n",
       "<style scoped>\n",
       "    .dataframe tbody tr th:only-of-type {\n",
       "        vertical-align: middle;\n",
       "    }\n",
       "\n",
       "    .dataframe tbody tr th {\n",
       "        vertical-align: top;\n",
       "    }\n",
       "\n",
       "    .dataframe thead th {\n",
       "        text-align: right;\n",
       "    }\n",
       "</style>\n",
       "<table border=\"1\" class=\"dataframe\">\n",
       "  <thead>\n",
       "    <tr style=\"text-align: right;\">\n",
       "      <th></th>\n",
       "      <th>DateCourte</th>\n",
       "      <th>Montant</th>\n",
       "    </tr>\n",
       "  </thead>\n",
       "  <tbody>\n",
       "    <tr>\n",
       "      <th>0</th>\n",
       "      <td>2024-12-08</td>\n",
       "      <td>25000.00</td>\n",
       "    </tr>\n",
       "    <tr>\n",
       "      <th>1</th>\n",
       "      <td>2024-12-09</td>\n",
       "      <td>400000.00</td>\n",
       "    </tr>\n",
       "    <tr>\n",
       "      <th>2</th>\n",
       "      <td>2024-12-10</td>\n",
       "      <td>900.00</td>\n",
       "    </tr>\n",
       "    <tr>\n",
       "      <th>3</th>\n",
       "      <td>2024-12-12</td>\n",
       "      <td>45000.00</td>\n",
       "    </tr>\n",
       "    <tr>\n",
       "      <th>4</th>\n",
       "      <td>2024-12-13</td>\n",
       "      <td>31750.00</td>\n",
       "    </tr>\n",
       "  </tbody>\n",
       "</table>\n",
       "</div>"
      ],
      "text/plain": [
       "   DateCourte   Montant\n",
       "0  2024-12-08  25000.00\n",
       "1  2024-12-09 400000.00\n",
       "2  2024-12-10    900.00\n",
       "3  2024-12-12  45000.00\n",
       "4  2024-12-13  31750.00"
      ]
     },
     "execution_count": 128,
     "metadata": {},
     "output_type": "execute_result"
    }
   ],
   "source": [
    "select_echec_max = echecs.groupby('DateCourte')['Montant'].max()\n",
    "select_echec_max.reset_index()"
   ]
  },
  {
   "cell_type": "markdown",
   "id": "457bafeb-d88a-489a-b16d-d2fba852a263",
   "metadata": {},
   "source": [
    "ANALYSE MTNCM"
   ]
  },
  {
   "cell_type": "code",
   "execution_count": 129,
   "id": "8779c4f5-c39c-43d2-baf3-f97c87dc280b",
   "metadata": {},
   "outputs": [
    {
     "data": {
      "text/plain": [
       "array(['Transfer'], dtype=object)"
      ]
     },
     "execution_count": 129,
     "metadata": {},
     "output_type": "execute_result"
    }
   ],
   "source": [
    "dfmtn['Type'].unique()"
   ]
  },
  {
   "cell_type": "code",
   "execution_count": 130,
   "id": "646a795a-7be8-4c1e-9be0-60c49385b712",
   "metadata": {},
   "outputs": [
    {
     "data": {
      "text/plain": [
       "array(['succès', 'échec'], dtype=object)"
      ]
     },
     "execution_count": 130,
     "metadata": {},
     "output_type": "execute_result"
    }
   ],
   "source": [
    "dfpmt1['Statut'].unique()"
   ]
  },
  {
   "cell_type": "code",
   "execution_count": 131,
   "id": "7183c881-8e06-450b-925e-501acb3a623d",
   "metadata": {},
   "outputs": [
    {
     "data": {
      "text/html": [
       "<div>\n",
       "<style scoped>\n",
       "    .dataframe tbody tr th:only-of-type {\n",
       "        vertical-align: middle;\n",
       "    }\n",
       "\n",
       "    .dataframe tbody tr th {\n",
       "        vertical-align: top;\n",
       "    }\n",
       "\n",
       "    .dataframe thead th {\n",
       "        text-align: right;\n",
       "    }\n",
       "</style>\n",
       "<table border=\"1\" class=\"dataframe\">\n",
       "  <thead>\n",
       "    <tr style=\"text-align: right;\">\n",
       "      <th></th>\n",
       "      <th>Id</th>\n",
       "      <th>External id</th>\n",
       "      <th>Date</th>\n",
       "      <th>Status</th>\n",
       "      <th>Type</th>\n",
       "      <th>Amount</th>\n",
       "      <th>Currency.14</th>\n",
       "      <th>From name</th>\n",
       "      <th>From handler name</th>\n",
       "      <th>DateCourte</th>\n",
       "    </tr>\n",
       "  </thead>\n",
       "  <tbody>\n",
       "  </tbody>\n",
       "</table>\n",
       "</div>"
      ],
      "text/plain": [
       "Empty DataFrame\n",
       "Columns: [Id, External id, Date, Status, Type, Amount, Currency.14, From name, From handler name, DateCourte]\n",
       "Index: []"
      ]
     },
     "execution_count": 131,
     "metadata": {},
     "output_type": "execute_result"
    }
   ],
   "source": [
    "reversal= dfmtn.loc[(dfmtn['Type'] == 'Reversal')]\n",
    "reversal"
   ]
  },
  {
   "cell_type": "code",
   "execution_count": 132,
   "id": "6bf77c02-5186-4f35-8591-73881cd2b53a",
   "metadata": {},
   "outputs": [
    {
     "data": {
      "text/html": [
       "<div>\n",
       "<style scoped>\n",
       "    .dataframe tbody tr th:only-of-type {\n",
       "        vertical-align: middle;\n",
       "    }\n",
       "\n",
       "    .dataframe tbody tr th {\n",
       "        vertical-align: top;\n",
       "    }\n",
       "\n",
       "    .dataframe thead th {\n",
       "        text-align: right;\n",
       "    }\n",
       "</style>\n",
       "<table border=\"1\" class=\"dataframe\">\n",
       "  <thead>\n",
       "    <tr style=\"text-align: right;\">\n",
       "      <th></th>\n",
       "      <th>Id</th>\n",
       "      <th>External id</th>\n",
       "      <th>Date</th>\n",
       "      <th>Status</th>\n",
       "      <th>Type</th>\n",
       "      <th>Amount</th>\n",
       "      <th>Currency.14</th>\n",
       "      <th>From name</th>\n",
       "      <th>From handler name</th>\n",
       "      <th>DateCourte</th>\n",
       "    </tr>\n",
       "  </thead>\n",
       "  <tbody>\n",
       "  </tbody>\n",
       "</table>\n",
       "</div>"
      ],
      "text/plain": [
       "Empty DataFrame\n",
       "Columns: [Id, External id, Date, Status, Type, Amount, Currency.14, From name, From handler name, DateCourte]\n",
       "Index: []"
      ]
     },
     "execution_count": 132,
     "metadata": {},
     "output_type": "execute_result"
    }
   ],
   "source": [
    "adjustement= dfmtn.loc[(dfmtn['Type'] == 'Adjustment')]\n",
    "adjustement"
   ]
  },
  {
   "cell_type": "code",
   "execution_count": 133,
   "id": "54d3d398-e8af-4a0c-9566-fef8096e45fd",
   "metadata": {},
   "outputs": [
    {
     "data": {
      "text/html": [
       "<div>\n",
       "<style scoped>\n",
       "    .dataframe tbody tr th:only-of-type {\n",
       "        vertical-align: middle;\n",
       "    }\n",
       "\n",
       "    .dataframe tbody tr th {\n",
       "        vertical-align: top;\n",
       "    }\n",
       "\n",
       "    .dataframe thead th {\n",
       "        text-align: right;\n",
       "    }\n",
       "</style>\n",
       "<table border=\"1\" class=\"dataframe\">\n",
       "  <thead>\n",
       "    <tr style=\"text-align: right;\">\n",
       "      <th></th>\n",
       "      <th>Id</th>\n",
       "      <th>External id</th>\n",
       "      <th>Date</th>\n",
       "      <th>Status</th>\n",
       "      <th>Type</th>\n",
       "      <th>Amount</th>\n",
       "      <th>Currency.14</th>\n",
       "      <th>From name</th>\n",
       "      <th>From handler name</th>\n",
       "      <th>DateCourte</th>\n",
       "    </tr>\n",
       "  </thead>\n",
       "  <tbody>\n",
       "    <tr>\n",
       "      <th>0</th>\n",
       "      <td>10869108392</td>\n",
       "      <td>NaN</td>\n",
       "      <td>2024-12-13 11:51:54</td>\n",
       "      <td>Successful</td>\n",
       "      <td>Transfer</td>\n",
       "      <td>22000000</td>\n",
       "      <td>XAF</td>\n",
       "      <td>PAYMETRUST Payment</td>\n",
       "      <td>PAYMETRUST Payment</td>\n",
       "      <td>2024-12-13</td>\n",
       "    </tr>\n",
       "  </tbody>\n",
       "</table>\n",
       "</div>"
      ],
      "text/plain": [
       "            Id External id                 Date      Status      Type  \\\n",
       "0  10869108392         NaN  2024-12-13 11:51:54  Successful  Transfer   \n",
       "\n",
       "     Amount Currency.14           From name   From handler name  DateCourte  \n",
       "0  22000000         XAF  PAYMETRUST Payment  PAYMETRUST Payment  2024-12-13  "
      ]
     },
     "execution_count": 133,
     "metadata": {},
     "output_type": "execute_result"
    }
   ],
   "source": [
    "rechargemnt_payin_vers_payout = dfmtn.loc[(dfmtn['Type'] == 'Transfer') & (dfmtn['From handler name']== \"PAYMETRUST Payment\")]\n",
    "rechargemnt_payin_vers_payout"
   ]
  },
  {
   "cell_type": "markdown",
   "id": "6a24729b-5d6d-45be-8adf-c2d464eccfdb",
   "metadata": {},
   "source": [
    "ANALYSE PMT"
   ]
  },
  {
   "cell_type": "code",
   "execution_count": 134,
   "id": "09b7d258-3863-45f8-8e3e-01fba62e175e",
   "metadata": {},
   "outputs": [
    {
     "data": {
      "text/html": [
       "<div>\n",
       "<style scoped>\n",
       "    .dataframe tbody tr th:only-of-type {\n",
       "        vertical-align: middle;\n",
       "    }\n",
       "\n",
       "    .dataframe tbody tr th {\n",
       "        vertical-align: top;\n",
       "    }\n",
       "\n",
       "    .dataframe thead th {\n",
       "        text-align: right;\n",
       "    }\n",
       "</style>\n",
       "<table border=\"1\" class=\"dataframe\">\n",
       "  <thead>\n",
       "    <tr style=\"text-align: right;\">\n",
       "      <th></th>\n",
       "      <th>Created Date</th>\n",
       "      <th>Payment Date</th>\n",
       "      <th>Operator</th>\n",
       "      <th>Nom du Marchand</th>\n",
       "      <th>Transaction ID</th>\n",
       "      <th>ID Opérateur</th>\n",
       "      <th>Numéro de téléphone</th>\n",
       "      <th>Montant</th>\n",
       "      <th>Fee amount</th>\n",
       "      <th>Merchant amount</th>\n",
       "      <th>Statut</th>\n",
       "      <th>DateCourte</th>\n",
       "      <th>DATEOP</th>\n",
       "      <th>STATUTOP</th>\n",
       "      <th>IDOPERATOR</th>\n",
       "      <th>Fraisop</th>\n",
       "      <th>FraisPmt</th>\n",
       "      <th>MTN</th>\n",
       "      <th>Nombre</th>\n",
       "    </tr>\n",
       "  </thead>\n",
       "  <tbody>\n",
       "    <tr>\n",
       "      <th>0</th>\n",
       "      <td>2024-12-13 08:46:02</td>\n",
       "      <td>NaN</td>\n",
       "      <td>MTN_CM</td>\n",
       "      <td>BetWinner CM</td>\n",
       "      <td>8a1e6d6a-f81c-40a8-89f4-1539f6db160b</td>\n",
       "      <td>10867040710.00</td>\n",
       "      <td>237653435558</td>\n",
       "      <td>2000.00</td>\n",
       "      <td>40.00</td>\n",
       "      <td>2040,00</td>\n",
       "      <td>succès</td>\n",
       "      <td>2024-12-13</td>\n",
       "      <td>2024-12-13</td>\n",
       "      <td>Successful</td>\n",
       "      <td>10867040710.00</td>\n",
       "      <td>2.00</td>\n",
       "      <td>38.00</td>\n",
       "      <td>1</td>\n",
       "      <td>2000.00</td>\n",
       "    </tr>\n",
       "    <tr>\n",
       "      <th>1</th>\n",
       "      <td>2024-12-13 08:42:02</td>\n",
       "      <td>NaN</td>\n",
       "      <td>MTN_CM</td>\n",
       "      <td>1XBET CM</td>\n",
       "      <td>1c13fb59-1671-41cf-84fa-a92d24af209f</td>\n",
       "      <td>10866996440.00</td>\n",
       "      <td>237652170737</td>\n",
       "      <td>6000.00</td>\n",
       "      <td>240.00</td>\n",
       "      <td>6240,00</td>\n",
       "      <td>succès</td>\n",
       "      <td>2024-12-13</td>\n",
       "      <td>2024-12-13</td>\n",
       "      <td>Successful</td>\n",
       "      <td>10866996440.00</td>\n",
       "      <td>6.00</td>\n",
       "      <td>234.00</td>\n",
       "      <td>1</td>\n",
       "      <td>6000.00</td>\n",
       "    </tr>\n",
       "    <tr>\n",
       "      <th>2</th>\n",
       "      <td>2024-12-13 08:41:58</td>\n",
       "      <td>NaN</td>\n",
       "      <td>MTN_CM</td>\n",
       "      <td>1XBET CM</td>\n",
       "      <td>e8f151ce-0d82-4028-96cc-158ff6606e53</td>\n",
       "      <td>10866995564.00</td>\n",
       "      <td>237651304316</td>\n",
       "      <td>39000.00</td>\n",
       "      <td>1560.00</td>\n",
       "      <td>40560,00</td>\n",
       "      <td>succès</td>\n",
       "      <td>2024-12-13</td>\n",
       "      <td>2024-12-13</td>\n",
       "      <td>Successful</td>\n",
       "      <td>10866995564.00</td>\n",
       "      <td>39.00</td>\n",
       "      <td>1521.00</td>\n",
       "      <td>1</td>\n",
       "      <td>39000.00</td>\n",
       "    </tr>\n",
       "  </tbody>\n",
       "</table>\n",
       "</div>"
      ],
      "text/plain": [
       "          Created Date  Payment Date Operator Nom du Marchand  \\\n",
       "0  2024-12-13 08:46:02           NaN   MTN_CM    BetWinner CM   \n",
       "1  2024-12-13 08:42:02           NaN   MTN_CM        1XBET CM   \n",
       "2  2024-12-13 08:41:58           NaN   MTN_CM        1XBET CM   \n",
       "\n",
       "                         Transaction ID   ID Opérateur  Numéro de téléphone  \\\n",
       "0  8a1e6d6a-f81c-40a8-89f4-1539f6db160b 10867040710.00         237653435558   \n",
       "1  1c13fb59-1671-41cf-84fa-a92d24af209f 10866996440.00         237652170737   \n",
       "2  e8f151ce-0d82-4028-96cc-158ff6606e53 10866995564.00         237651304316   \n",
       "\n",
       "   Montant  Fee amount Merchant amount  Statut  DateCourte      DATEOP  \\\n",
       "0  2000.00       40.00         2040,00  succès  2024-12-13  2024-12-13   \n",
       "1  6000.00      240.00         6240,00  succès  2024-12-13  2024-12-13   \n",
       "2 39000.00     1560.00        40560,00  succès  2024-12-13  2024-12-13   \n",
       "\n",
       "     STATUTOP     IDOPERATOR  Fraisop  FraisPmt  MTN   Nombre  \n",
       "0  Successful 10867040710.00     2.00     38.00    1  2000.00  \n",
       "1  Successful 10866996440.00     6.00    234.00    1  6000.00  \n",
       "2  Successful 10866995564.00    39.00   1521.00    1 39000.00  "
      ]
     },
     "execution_count": 134,
     "metadata": {},
     "output_type": "execute_result"
    }
   ],
   "source": [
    "dfpmt1.head(3)"
   ]
  },
  {
   "cell_type": "code",
   "execution_count": 135,
   "id": "87764486-0f09-486a-8026-5f110003293c",
   "metadata": {},
   "outputs": [
    {
     "data": {
      "text/html": [
       "<div>\n",
       "<style scoped>\n",
       "    .dataframe tbody tr th:only-of-type {\n",
       "        vertical-align: middle;\n",
       "    }\n",
       "\n",
       "    .dataframe tbody tr th {\n",
       "        vertical-align: top;\n",
       "    }\n",
       "\n",
       "    .dataframe thead th {\n",
       "        text-align: right;\n",
       "    }\n",
       "</style>\n",
       "<table border=\"1\" class=\"dataframe\">\n",
       "  <thead>\n",
       "    <tr style=\"text-align: right;\">\n",
       "      <th>Nom du Marchand</th>\n",
       "      <th>1XBET CM</th>\n",
       "      <th>BetWinner CM</th>\n",
       "      <th>Goldpari CM</th>\n",
       "      <th>MELBET CM</th>\n",
       "    </tr>\n",
       "    <tr>\n",
       "      <th>Statut</th>\n",
       "      <th></th>\n",
       "      <th></th>\n",
       "      <th></th>\n",
       "      <th></th>\n",
       "    </tr>\n",
       "  </thead>\n",
       "  <tbody>\n",
       "    <tr>\n",
       "      <th>succès</th>\n",
       "      <td>3651</td>\n",
       "      <td>1451</td>\n",
       "      <td>99</td>\n",
       "      <td>468</td>\n",
       "    </tr>\n",
       "    <tr>\n",
       "      <th>échec</th>\n",
       "      <td>67</td>\n",
       "      <td>142</td>\n",
       "      <td>12</td>\n",
       "      <td>27</td>\n",
       "    </tr>\n",
       "  </tbody>\n",
       "</table>\n",
       "</div>"
      ],
      "text/plain": [
       "Nom du Marchand  1XBET CM  BetWinner CM  Goldpari CM  MELBET CM\n",
       "Statut                                                         \n",
       "succès               3651          1451           99        468\n",
       "échec                  67           142           12         27"
      ]
     },
     "execution_count": 135,
     "metadata": {},
     "output_type": "execute_result"
    }
   ],
   "source": [
    "select_statut_marchd=pd.crosstab(dfpmt1['Statut'],dfpmt1['Nom du Marchand'])\n",
    "select_statut_marchd"
   ]
  },
  {
   "cell_type": "code",
   "execution_count": 136,
   "id": "5f2082b2-abf1-44cd-bdda-cae3867a9818",
   "metadata": {},
   "outputs": [
    {
     "data": {
      "text/html": [
       "<div>\n",
       "<style scoped>\n",
       "    .dataframe tbody tr th:only-of-type {\n",
       "        vertical-align: middle;\n",
       "    }\n",
       "\n",
       "    .dataframe tbody tr th {\n",
       "        vertical-align: top;\n",
       "    }\n",
       "\n",
       "    .dataframe thead th {\n",
       "        text-align: right;\n",
       "    }\n",
       "</style>\n",
       "<table border=\"1\" class=\"dataframe\">\n",
       "  <thead>\n",
       "    <tr style=\"text-align: right;\">\n",
       "      <th></th>\n",
       "      <th>Nom du Marchand</th>\n",
       "      <th>DateCourte</th>\n",
       "      <th>Montant</th>\n",
       "    </tr>\n",
       "  </thead>\n",
       "  <tbody>\n",
       "    <tr>\n",
       "      <th>0</th>\n",
       "      <td>1XBET CM</td>\n",
       "      <td>2024-12-08</td>\n",
       "      <td>25277290.00</td>\n",
       "    </tr>\n",
       "    <tr>\n",
       "      <th>1</th>\n",
       "      <td>1XBET CM</td>\n",
       "      <td>2024-12-09</td>\n",
       "      <td>1806915.00</td>\n",
       "    </tr>\n",
       "    <tr>\n",
       "      <th>2</th>\n",
       "      <td>1XBET CM</td>\n",
       "      <td>2024-12-10</td>\n",
       "      <td>14086731.00</td>\n",
       "    </tr>\n",
       "    <tr>\n",
       "      <th>3</th>\n",
       "      <td>1XBET CM</td>\n",
       "      <td>2024-12-12</td>\n",
       "      <td>25519104.00</td>\n",
       "    </tr>\n",
       "    <tr>\n",
       "      <th>4</th>\n",
       "      <td>1XBET CM</td>\n",
       "      <td>2024-12-13</td>\n",
       "      <td>12903726.00</td>\n",
       "    </tr>\n",
       "    <tr>\n",
       "      <th>5</th>\n",
       "      <td>BetWinner CM</td>\n",
       "      <td>2024-12-08</td>\n",
       "      <td>6426657.00</td>\n",
       "    </tr>\n",
       "    <tr>\n",
       "      <th>6</th>\n",
       "      <td>BetWinner CM</td>\n",
       "      <td>2024-12-09</td>\n",
       "      <td>3260939.00</td>\n",
       "    </tr>\n",
       "    <tr>\n",
       "      <th>7</th>\n",
       "      <td>BetWinner CM</td>\n",
       "      <td>2024-12-10</td>\n",
       "      <td>2598390.00</td>\n",
       "    </tr>\n",
       "    <tr>\n",
       "      <th>8</th>\n",
       "      <td>BetWinner CM</td>\n",
       "      <td>2024-12-12</td>\n",
       "      <td>8899562.00</td>\n",
       "    </tr>\n",
       "    <tr>\n",
       "      <th>9</th>\n",
       "      <td>BetWinner CM</td>\n",
       "      <td>2024-12-13</td>\n",
       "      <td>4933697.00</td>\n",
       "    </tr>\n",
       "    <tr>\n",
       "      <th>10</th>\n",
       "      <td>Goldpari CM</td>\n",
       "      <td>2024-12-08</td>\n",
       "      <td>300920.00</td>\n",
       "    </tr>\n",
       "    <tr>\n",
       "      <th>11</th>\n",
       "      <td>Goldpari CM</td>\n",
       "      <td>2024-12-09</td>\n",
       "      <td>42015.00</td>\n",
       "    </tr>\n",
       "    <tr>\n",
       "      <th>12</th>\n",
       "      <td>Goldpari CM</td>\n",
       "      <td>2024-12-10</td>\n",
       "      <td>333800.00</td>\n",
       "    </tr>\n",
       "    <tr>\n",
       "      <th>13</th>\n",
       "      <td>Goldpari CM</td>\n",
       "      <td>2024-12-12</td>\n",
       "      <td>237890.00</td>\n",
       "    </tr>\n",
       "    <tr>\n",
       "      <th>14</th>\n",
       "      <td>Goldpari CM</td>\n",
       "      <td>2024-12-13</td>\n",
       "      <td>119900.00</td>\n",
       "    </tr>\n",
       "    <tr>\n",
       "      <th>15</th>\n",
       "      <td>MELBET CM</td>\n",
       "      <td>2024-12-08</td>\n",
       "      <td>1402312.00</td>\n",
       "    </tr>\n",
       "    <tr>\n",
       "      <th>16</th>\n",
       "      <td>MELBET CM</td>\n",
       "      <td>2024-12-09</td>\n",
       "      <td>277930.00</td>\n",
       "    </tr>\n",
       "    <tr>\n",
       "      <th>17</th>\n",
       "      <td>MELBET CM</td>\n",
       "      <td>2024-12-10</td>\n",
       "      <td>782460.00</td>\n",
       "    </tr>\n",
       "    <tr>\n",
       "      <th>18</th>\n",
       "      <td>MELBET CM</td>\n",
       "      <td>2024-12-12</td>\n",
       "      <td>1827093.00</td>\n",
       "    </tr>\n",
       "    <tr>\n",
       "      <th>19</th>\n",
       "      <td>MELBET CM</td>\n",
       "      <td>2024-12-13</td>\n",
       "      <td>958080.00</td>\n",
       "    </tr>\n",
       "  </tbody>\n",
       "</table>\n",
       "</div>"
      ],
      "text/plain": [
       "   Nom du Marchand  DateCourte     Montant\n",
       "0         1XBET CM  2024-12-08 25277290.00\n",
       "1         1XBET CM  2024-12-09  1806915.00\n",
       "2         1XBET CM  2024-12-10 14086731.00\n",
       "3         1XBET CM  2024-12-12 25519104.00\n",
       "4         1XBET CM  2024-12-13 12903726.00\n",
       "5     BetWinner CM  2024-12-08  6426657.00\n",
       "6     BetWinner CM  2024-12-09  3260939.00\n",
       "7     BetWinner CM  2024-12-10  2598390.00\n",
       "8     BetWinner CM  2024-12-12  8899562.00\n",
       "9     BetWinner CM  2024-12-13  4933697.00\n",
       "10     Goldpari CM  2024-12-08   300920.00\n",
       "11     Goldpari CM  2024-12-09    42015.00\n",
       "12     Goldpari CM  2024-12-10   333800.00\n",
       "13     Goldpari CM  2024-12-12   237890.00\n",
       "14     Goldpari CM  2024-12-13   119900.00\n",
       "15       MELBET CM  2024-12-08  1402312.00\n",
       "16       MELBET CM  2024-12-09   277930.00\n",
       "17       MELBET CM  2024-12-10   782460.00\n",
       "18       MELBET CM  2024-12-12  1827093.00\n",
       "19       MELBET CM  2024-12-13   958080.00"
      ]
     },
     "execution_count": 136,
     "metadata": {},
     "output_type": "execute_result"
    }
   ],
   "source": [
    "select_montant_marchd = dfpmt1.groupby(['Nom du Marchand','DateCourte'])['Montant'].sum().reset_index()\n",
    "select_montant_marchd"
   ]
  },
  {
   "cell_type": "code",
   "execution_count": 137,
   "id": "0f3594b4-ee90-4c8d-9248-728eb36039b8",
   "metadata": {},
   "outputs": [
    {
     "data": {
      "text/html": [
       "<div>\n",
       "<style scoped>\n",
       "    .dataframe tbody tr th:only-of-type {\n",
       "        vertical-align: middle;\n",
       "    }\n",
       "\n",
       "    .dataframe tbody tr th {\n",
       "        vertical-align: top;\n",
       "    }\n",
       "\n",
       "    .dataframe thead th {\n",
       "        text-align: right;\n",
       "    }\n",
       "</style>\n",
       "<table border=\"1\" class=\"dataframe\">\n",
       "  <thead>\n",
       "    <tr style=\"text-align: right;\">\n",
       "      <th></th>\n",
       "      <th>Created Date</th>\n",
       "      <th>Payment Date</th>\n",
       "      <th>Operator</th>\n",
       "      <th>Nom du Marchand</th>\n",
       "      <th>Transaction ID</th>\n",
       "      <th>ID Opérateur</th>\n",
       "      <th>Numéro de téléphone</th>\n",
       "      <th>Montant</th>\n",
       "      <th>Fee amount</th>\n",
       "      <th>Merchant amount</th>\n",
       "      <th>Statut</th>\n",
       "      <th>DateCourte</th>\n",
       "      <th>DATEOP</th>\n",
       "      <th>STATUTOP</th>\n",
       "      <th>IDOPERATOR</th>\n",
       "      <th>Fraisop</th>\n",
       "      <th>FraisPmt</th>\n",
       "      <th>MTN</th>\n",
       "      <th>Nombre</th>\n",
       "    </tr>\n",
       "  </thead>\n",
       "  <tbody>\n",
       "  </tbody>\n",
       "</table>\n",
       "</div>"
      ],
      "text/plain": [
       "Empty DataFrame\n",
       "Columns: [Created Date, Payment Date, Operator, Nom du Marchand, Transaction ID, ID Opérateur, Numéro de téléphone, Montant, Fee amount, Merchant amount, Statut, DateCourte, DATEOP, STATUTOP, IDOPERATOR, Fraisop, FraisPmt, MTN, Nombre]\n",
       "Index: []"
      ]
     },
     "execution_count": 137,
     "metadata": {},
     "output_type": "execute_result"
    }
   ],
   "source": [
    "uba= dfpmt1.loc[(dfpmt1['Nom du Marchand'] == 'Demo UBA Cameroun 1')]\n",
    "uba"
   ]
  },
  {
   "cell_type": "code",
   "execution_count": 138,
   "id": "6651ab37-39dc-47f2-9998-ab5954c74712",
   "metadata": {},
   "outputs": [
    {
     "data": {
      "text/html": [
       "<div>\n",
       "<style scoped>\n",
       "    .dataframe tbody tr th:only-of-type {\n",
       "        vertical-align: middle;\n",
       "    }\n",
       "\n",
       "    .dataframe tbody tr th {\n",
       "        vertical-align: top;\n",
       "    }\n",
       "\n",
       "    .dataframe thead th {\n",
       "        text-align: right;\n",
       "    }\n",
       "</style>\n",
       "<table border=\"1\" class=\"dataframe\">\n",
       "  <thead>\n",
       "    <tr style=\"text-align: right;\">\n",
       "      <th></th>\n",
       "      <th>Created Date</th>\n",
       "      <th>Payment Date</th>\n",
       "      <th>Operator</th>\n",
       "      <th>Nom du Marchand</th>\n",
       "      <th>Transaction ID</th>\n",
       "      <th>ID Opérateur</th>\n",
       "      <th>Numéro de téléphone</th>\n",
       "      <th>Montant</th>\n",
       "      <th>Fee amount</th>\n",
       "      <th>Merchant amount</th>\n",
       "      <th>Statut</th>\n",
       "      <th>DateCourte</th>\n",
       "      <th>DATEOP</th>\n",
       "      <th>STATUTOP</th>\n",
       "      <th>IDOPERATOR</th>\n",
       "      <th>Fraisop</th>\n",
       "      <th>FraisPmt</th>\n",
       "      <th>MTN</th>\n",
       "      <th>Nombre</th>\n",
       "    </tr>\n",
       "  </thead>\n",
       "  <tbody>\n",
       "  </tbody>\n",
       "</table>\n",
       "</div>"
      ],
      "text/plain": [
       "Empty DataFrame\n",
       "Columns: [Created Date, Payment Date, Operator, Nom du Marchand, Transaction ID, ID Opérateur, Numéro de téléphone, Montant, Fee amount, Merchant amount, Statut, DateCourte, DATEOP, STATUTOP, IDOPERATOR, Fraisop, FraisPmt, MTN, Nombre]\n",
       "Index: []"
      ]
     },
     "execution_count": 138,
     "metadata": {},
     "output_type": "execute_result"
    }
   ],
   "source": [
    "liste_remb = dfpmt1.loc[(dfpmt1['Nom du Marchand'] == 'PMT Refund Merchant CM')]\n",
    "liste_remb"
   ]
  },
  {
   "cell_type": "code",
   "execution_count": 139,
   "id": "a154f7fd-95c2-4b05-8ca1-fde7033ddb8b",
   "metadata": {},
   "outputs": [
    {
     "data": {
      "text/plain": [
       "<seaborn.axisgrid.FacetGrid at 0x2b8a42d4ef0>"
      ]
     },
     "execution_count": 139,
     "metadata": {},
     "output_type": "execute_result"
    },
    {
     "data": {
      "image/png": "[encoded data removed]",
      "text/plain": [
       "<Figure size 960x300 with 2 Axes>"
      ]
     },
     "metadata": {},
     "output_type": "display_data"
    }
   ],
   "source": [
    "grid=sns.FacetGrid(dfpmt1, col='Statut', aspect=1.6)\n",
    "grid.map(sns.countplot,'Nom du Marchand')"
   ]
  },
  {
   "cell_type": "code",
   "execution_count": 140,
   "id": "8e5f77fc-3986-4d35-9c77-f33826abe171",
   "metadata": {},
   "outputs": [
    {
     "data": {
      "text/html": [
       "<div>\n",
       "<style scoped>\n",
       "    .dataframe tbody tr th:only-of-type {\n",
       "        vertical-align: middle;\n",
       "    }\n",
       "\n",
       "    .dataframe tbody tr th {\n",
       "        vertical-align: top;\n",
       "    }\n",
       "\n",
       "    .dataframe thead th {\n",
       "        text-align: right;\n",
       "    }\n",
       "</style>\n",
       "<table border=\"1\" class=\"dataframe\">\n",
       "  <thead>\n",
       "    <tr style=\"text-align: right;\">\n",
       "      <th></th>\n",
       "      <th></th>\n",
       "      <th>Nombre</th>\n",
       "      <th>Volume</th>\n",
       "    </tr>\n",
       "    <tr>\n",
       "      <th>Numéro de téléphone</th>\n",
       "      <th>Statut</th>\n",
       "      <th></th>\n",
       "      <th></th>\n",
       "    </tr>\n",
       "  </thead>\n",
       "  <tbody>\n",
       "    <tr>\n",
       "      <th>237650001709</th>\n",
       "      <th>succès</th>\n",
       "      <td>1</td>\n",
       "      <td>15000.00</td>\n",
       "    </tr>\n",
       "    <tr>\n",
       "      <th>237650001949</th>\n",
       "      <th>succès</th>\n",
       "      <td>1</td>\n",
       "      <td>1600.00</td>\n",
       "    </tr>\n",
       "    <tr>\n",
       "      <th>237650002701</th>\n",
       "      <th>succès</th>\n",
       "      <td>2</td>\n",
       "      <td>11000.00</td>\n",
       "    </tr>\n",
       "    <tr>\n",
       "      <th>237650003768</th>\n",
       "      <th>succès</th>\n",
       "      <td>1</td>\n",
       "      <td>1400.00</td>\n",
       "    </tr>\n",
       "    <tr>\n",
       "      <th>237650004060</th>\n",
       "      <th>succès</th>\n",
       "      <td>1</td>\n",
       "      <td>15000.00</td>\n",
       "    </tr>\n",
       "    <tr>\n",
       "      <th>...</th>\n",
       "      <th>...</th>\n",
       "      <td>...</td>\n",
       "      <td>...</td>\n",
       "    </tr>\n",
       "    <tr>\n",
       "      <th>237688794313</th>\n",
       "      <th>échec</th>\n",
       "      <td>2</td>\n",
       "      <td>8400.00</td>\n",
       "    </tr>\n",
       "    <tr>\n",
       "      <th>237689411958</th>\n",
       "      <th>échec</th>\n",
       "      <td>1</td>\n",
       "      <td>4500.00</td>\n",
       "    </tr>\n",
       "    <tr>\n",
       "      <th>237690335637</th>\n",
       "      <th>échec</th>\n",
       "      <td>1</td>\n",
       "      <td>31750.00</td>\n",
       "    </tr>\n",
       "    <tr>\n",
       "      <th>237696862653</th>\n",
       "      <th>échec</th>\n",
       "      <td>1</td>\n",
       "      <td>6000.00</td>\n",
       "    </tr>\n",
       "    <tr>\n",
       "      <th>237699574126</th>\n",
       "      <th>échec</th>\n",
       "      <td>1</td>\n",
       "      <td>9500.00</td>\n",
       "    </tr>\n",
       "  </tbody>\n",
       "</table>\n",
       "<p>4825 rows × 2 columns</p>\n",
       "</div>"
      ],
      "text/plain": [
       "                            Nombre   Volume\n",
       "Numéro de téléphone Statut                 \n",
       "237650001709        succès       1 15000.00\n",
       "237650001949        succès       1  1600.00\n",
       "237650002701        succès       2 11000.00\n",
       "237650003768        succès       1  1400.00\n",
       "237650004060        succès       1 15000.00\n",
       "...                            ...      ...\n",
       "237688794313        échec        2  8400.00\n",
       "237689411958        échec        1  4500.00\n",
       "237690335637        échec        1 31750.00\n",
       "237696862653        échec        1  6000.00\n",
       "237699574126        échec        1  9500.00\n",
       "\n",
       "[4825 rows x 2 columns]"
      ]
     },
     "execution_count": 140,
     "metadata": {},
     "output_type": "execute_result"
    }
   ],
   "source": [
    "check_numero = dfpmt1.groupby(['Numéro de téléphone','Statut']).agg(\n",
    "    Nombre=('Montant', 'count'),\n",
    "    Volume=('Montant', 'sum')\n",
    ")\n",
    "check_numero"
   ]
  },
  {
   "cell_type": "code",
   "execution_count": 141,
   "id": "2cd44778-bb7f-4842-bbb0-6437cc5f4f4d",
   "metadata": {},
   "outputs": [
    {
     "data": {
      "text/plain": [
       "array([ 1,  2,  3,  5,  4,  7,  9,  6,  8, 11])"
      ]
     },
     "execution_count": 141,
     "metadata": {},
     "output_type": "execute_result"
    }
   ],
   "source": [
    "check_numero.Nombre.unique()"
   ]
  },
  {
   "cell_type": "code",
   "execution_count": 142,
   "id": "e1b29a35-0722-4c98-9c3c-da0a72b6d9ba",
   "metadata": {},
   "outputs": [
    {
     "data": {
      "text/html": [
       "<div>\n",
       "<style scoped>\n",
       "    .dataframe tbody tr th:only-of-type {\n",
       "        vertical-align: middle;\n",
       "    }\n",
       "\n",
       "    .dataframe tbody tr th {\n",
       "        vertical-align: top;\n",
       "    }\n",
       "\n",
       "    .dataframe thead th {\n",
       "        text-align: right;\n",
       "    }\n",
       "</style>\n",
       "<table border=\"1\" class=\"dataframe\">\n",
       "  <thead>\n",
       "    <tr style=\"text-align: right;\">\n",
       "      <th></th>\n",
       "      <th></th>\n",
       "      <th>Nombre</th>\n",
       "      <th>Volume</th>\n",
       "    </tr>\n",
       "    <tr>\n",
       "      <th>Numéro de téléphone</th>\n",
       "      <th>Statut</th>\n",
       "      <th></th>\n",
       "      <th></th>\n",
       "    </tr>\n",
       "  </thead>\n",
       "  <tbody>\n",
       "  </tbody>\n",
       "</table>\n",
       "</div>"
      ],
      "text/plain": [
       "Empty DataFrame\n",
       "Columns: [Nombre, Volume]\n",
       "Index: []"
      ]
     },
     "execution_count": 142,
     "metadata": {},
     "output_type": "execute_result"
    }
   ],
   "source": [
    "verif=check_numero[check_numero['Nombre'] == 39]\n",
    "verif"
   ]
  },
  {
   "cell_type": "code",
   "execution_count": 143,
   "id": "5dc02bfd-e399-447e-9b60-4cbbd79444d0",
   "metadata": {},
   "outputs": [
    {
     "data": {
      "text/html": [
       "<div>\n",
       "<style scoped>\n",
       "    .dataframe tbody tr th:only-of-type {\n",
       "        vertical-align: middle;\n",
       "    }\n",
       "\n",
       "    .dataframe tbody tr th {\n",
       "        vertical-align: top;\n",
       "    }\n",
       "\n",
       "    .dataframe thead th {\n",
       "        text-align: right;\n",
       "    }\n",
       "</style>\n",
       "<table border=\"1\" class=\"dataframe\">\n",
       "  <thead>\n",
       "    <tr style=\"text-align: right;\">\n",
       "      <th></th>\n",
       "      <th>Created Date</th>\n",
       "      <th>Payment Date</th>\n",
       "      <th>Operator</th>\n",
       "      <th>Nom du Marchand</th>\n",
       "      <th>Transaction ID</th>\n",
       "      <th>ID Opérateur</th>\n",
       "      <th>Numéro de téléphone</th>\n",
       "      <th>Montant</th>\n",
       "      <th>Fee amount</th>\n",
       "      <th>Merchant amount</th>\n",
       "      <th>Statut</th>\n",
       "      <th>DateCourte</th>\n",
       "      <th>DATEOP</th>\n",
       "      <th>STATUTOP</th>\n",
       "      <th>IDOPERATOR</th>\n",
       "      <th>Fraisop</th>\n",
       "      <th>FraisPmt</th>\n",
       "      <th>MTN</th>\n",
       "      <th>Nombre</th>\n",
       "    </tr>\n",
       "  </thead>\n",
       "  <tbody>\n",
       "  </tbody>\n",
       "</table>\n",
       "</div>"
      ],
      "text/plain": [
       "Empty DataFrame\n",
       "Columns: [Created Date, Payment Date, Operator, Nom du Marchand, Transaction ID, ID Opérateur, Numéro de téléphone, Montant, Fee amount, Merchant amount, Statut, DateCourte, DATEOP, STATUTOP, IDOPERATOR, Fraisop, FraisPmt, MTN, Nombre]\n",
       "Index: []"
      ]
     },
     "execution_count": 143,
     "metadata": {},
     "output_type": "execute_result"
    }
   ],
   "source": [
    "trx_number =dfpmt1[dfpmt1['Numéro de téléphone'] == 237679098652]\n",
    "trx_number.head(2)"
   ]
  },
  {
   "cell_type": "code",
   "execution_count": 144,
   "id": "c1924e4e-033c-4093-a350-4a88fd209d5e",
   "metadata": {},
   "outputs": [
    {
     "data": {
      "text/html": [
       "<div>\n",
       "<style scoped>\n",
       "    .dataframe tbody tr th:only-of-type {\n",
       "        vertical-align: middle;\n",
       "    }\n",
       "\n",
       "    .dataframe tbody tr th {\n",
       "        vertical-align: top;\n",
       "    }\n",
       "\n",
       "    .dataframe thead th {\n",
       "        text-align: right;\n",
       "    }\n",
       "</style>\n",
       "<table border=\"1\" class=\"dataframe\">\n",
       "  <thead>\n",
       "    <tr style=\"text-align: right;\">\n",
       "      <th></th>\n",
       "      <th></th>\n",
       "      <th>Nombre</th>\n",
       "      <th>Volume</th>\n",
       "    </tr>\n",
       "    <tr>\n",
       "      <th>Numéro de téléphone</th>\n",
       "      <th>Statut</th>\n",
       "      <th></th>\n",
       "      <th></th>\n",
       "    </tr>\n",
       "  </thead>\n",
       "  <tbody>\n",
       "    <tr>\n",
       "      <th>237675200289</th>\n",
       "      <th>succès</th>\n",
       "      <td>8</td>\n",
       "      <td>11700.00</td>\n",
       "    </tr>\n",
       "    <tr>\n",
       "      <th>237679160318</th>\n",
       "      <th>succès</th>\n",
       "      <td>8</td>\n",
       "      <td>23300.00</td>\n",
       "    </tr>\n",
       "  </tbody>\n",
       "</table>\n",
       "</div>"
      ],
      "text/plain": [
       "                            Nombre   Volume\n",
       "Numéro de téléphone Statut                 \n",
       "237675200289        succès       8 11700.00\n",
       "237679160318        succès       8 23300.00"
      ]
     },
     "execution_count": 144,
     "metadata": {},
     "output_type": "execute_result"
    }
   ],
   "source": [
    "check3_8= check_numero.loc[check_numero['Nombre'] == 8]\n",
    "check3_8"
   ]
  },
  {
   "cell_type": "code",
   "execution_count": 145,
   "id": "1019d39f-e8b8-4a38-8ea8-b5d72a9411d2",
   "metadata": {},
   "outputs": [
    {
     "data": {
      "text/html": [
       "<div>\n",
       "<style scoped>\n",
       "    .dataframe tbody tr th:only-of-type {\n",
       "        vertical-align: middle;\n",
       "    }\n",
       "\n",
       "    .dataframe tbody tr th {\n",
       "        vertical-align: top;\n",
       "    }\n",
       "\n",
       "    .dataframe thead th {\n",
       "        text-align: right;\n",
       "    }\n",
       "</style>\n",
       "<table border=\"1\" class=\"dataframe\">\n",
       "  <thead>\n",
       "    <tr style=\"text-align: right;\">\n",
       "      <th></th>\n",
       "      <th>Nombre</th>\n",
       "      <th>Volume</th>\n",
       "    </tr>\n",
       "    <tr>\n",
       "      <th>Nom du Marchand</th>\n",
       "      <th></th>\n",
       "      <th></th>\n",
       "    </tr>\n",
       "  </thead>\n",
       "  <tbody>\n",
       "    <tr>\n",
       "      <th>1XBET CM</th>\n",
       "      <td>3718</td>\n",
       "      <td>79593766.00</td>\n",
       "    </tr>\n",
       "    <tr>\n",
       "      <th>BetWinner CM</th>\n",
       "      <td>1593</td>\n",
       "      <td>26119245.00</td>\n",
       "    </tr>\n",
       "    <tr>\n",
       "      <th>Goldpari CM</th>\n",
       "      <td>111</td>\n",
       "      <td>1034525.00</td>\n",
       "    </tr>\n",
       "    <tr>\n",
       "      <th>MELBET CM</th>\n",
       "      <td>495</td>\n",
       "      <td>5247875.00</td>\n",
       "    </tr>\n",
       "  </tbody>\n",
       "</table>\n",
       "</div>"
      ],
      "text/plain": [
       "                 Nombre      Volume\n",
       "Nom du Marchand                    \n",
       "1XBET CM           3718 79593766.00\n",
       "BetWinner CM       1593 26119245.00\n",
       "Goldpari CM         111  1034525.00\n",
       "MELBET CM           495  5247875.00"
      ]
     },
     "execution_count": 145,
     "metadata": {},
     "output_type": "execute_result"
    }
   ],
   "source": [
    "select_marchand=dfpmt1.groupby('Nom du Marchand').agg(\n",
    "    Nombre=('Montant', 'count'),\n",
    "    Volume=('Montant', 'sum')\n",
    ")\n",
    "select_marchand"
   ]
  },
  {
   "cell_type": "code",
   "execution_count": 146,
   "id": "010c304d-ccf0-4b68-9b77-fde3f5af4adf",
   "metadata": {},
   "outputs": [],
   "source": [
    "df_filteredpmt['Frais_Mch']=df_filteredpmt['Fee amount'] / df_filteredpmt['Montant']"
   ]
  },
  {
   "cell_type": "code",
   "execution_count": 147,
   "id": "41aa7d80-1cc6-4f2a-893d-5c65d2f849be",
   "metadata": {},
   "outputs": [
    {
     "data": {
      "text/html": [
       "<div>\n",
       "<style scoped>\n",
       "    .dataframe tbody tr th:only-of-type {\n",
       "        vertical-align: middle;\n",
       "    }\n",
       "\n",
       "    .dataframe tbody tr th {\n",
       "        vertical-align: top;\n",
       "    }\n",
       "\n",
       "    .dataframe thead th {\n",
       "        text-align: right;\n",
       "    }\n",
       "</style>\n",
       "<table border=\"1\" class=\"dataframe\">\n",
       "  <thead>\n",
       "    <tr style=\"text-align: right;\">\n",
       "      <th></th>\n",
       "      <th>Nom du Marchand</th>\n",
       "      <th>Frais_Mch</th>\n",
       "    </tr>\n",
       "  </thead>\n",
       "  <tbody>\n",
       "    <tr>\n",
       "      <th>0</th>\n",
       "      <td>1XBET CM</td>\n",
       "      <td>[0.04, 0.039999999999999994]</td>\n",
       "    </tr>\n",
       "    <tr>\n",
       "      <th>1</th>\n",
       "      <td>BetWinner CM</td>\n",
       "      <td>[0.02, 0.019999999999999997]</td>\n",
       "    </tr>\n",
       "    <tr>\n",
       "      <th>2</th>\n",
       "      <td>Goldpari CM</td>\n",
       "      <td>[0.04]</td>\n",
       "    </tr>\n",
       "    <tr>\n",
       "      <th>3</th>\n",
       "      <td>MELBET CM</td>\n",
       "      <td>[0.05, 0.049999999999999996]</td>\n",
       "    </tr>\n",
       "  </tbody>\n",
       "</table>\n",
       "</div>"
      ],
      "text/plain": [
       "  Nom du Marchand                     Frais_Mch\n",
       "0        1XBET CM  [0.04, 0.039999999999999994]\n",
       "1    BetWinner CM  [0.02, 0.019999999999999997]\n",
       "2     Goldpari CM                        [0.04]\n",
       "3       MELBET CM  [0.05, 0.049999999999999996]"
      ]
     },
     "execution_count": 147,
     "metadata": {},
     "output_type": "execute_result"
    }
   ],
   "source": [
    "select_frais_marchand=df_filteredpmt.groupby('Nom du Marchand')['Frais_Mch'].apply(lambda x: list(set(x)))\n",
    "select_frais_marchand.reset_index()"
   ]
  },
  {
   "cell_type": "code",
   "execution_count": 159,
   "id": "348e7fa0-a528-436d-b452-5b788e0a356a",
   "metadata": {},
   "outputs": [
    {
     "name": "stdout",
     "output_type": "stream",
     "text": [
      "<class 'pandas.core.frame.DataFrame'>\n",
      "RangeIndex: 5917 entries, 0 to 5916\n",
      "Data columns (total 28 columns):\n",
      " #   Column               Non-Null Count  Dtype  \n",
      "---  ------               --------------  -----  \n",
      " 0   Created Date         5917 non-null   object \n",
      " 1   Payment Date         0 non-null      float64\n",
      " 2   Operator             5917 non-null   object \n",
      " 3   Nom du Marchand      5917 non-null   object \n",
      " 4   Transaction ID       5917 non-null   object \n",
      " 5   ID Opérateur         5669 non-null   float64\n",
      " 6   Numéro de téléphone  5917 non-null   int64  \n",
      " 7   Montant              5917 non-null   float64\n",
      " 8   Fee amount           5917 non-null   float64\n",
      " 9   Merchant amount      5917 non-null   object \n",
      " 10  Statut               5917 non-null   object \n",
      " 11  DateCourte           5917 non-null   object \n",
      " 12  DATEOP               3923 non-null   object \n",
      " 13  STATUTOP             3923 non-null   object \n",
      " 14  IDOPERATOR           3923 non-null   float64\n",
      " 15  Fraisop              5917 non-null   float64\n",
      " 16  FraisPmt             5917 non-null   float64\n",
      " 17  MTN                  5917 non-null   int64  \n",
      " 18  Nombre               5917 non-null   float64\n",
      " 19  MtOP                 3923 non-null   float64\n",
      " 20  taux_marchand        5917 non-null   float64\n",
      " 21  Frais_op             5917 non-null   float64\n",
      " 22  pays                 5917 non-null   object \n",
      " 23  provider_name        5917 non-null   object \n",
      " 24  Tauxopp              5917 non-null   float64\n",
      " 25  type                 5917 non-null   object \n",
      " 26  Comm_op              5917 non-null   float64\n",
      " 27  Comm_ttc             5917 non-null   float64\n",
      "dtypes: float64(14), int64(2), object(12)\n",
      "memory usage: 1.3+ MB\n"
     ]
    }
   ],
   "source": [
    "df_filteredpmt.info()"
   ]
  },
  {
   "cell_type": "markdown",
   "id": "029b85ee-f8b7-4e9d-9f12-5dfcda0fe6a9",
   "metadata": {},
   "source": [
    "AUTOMATISATION CHIFFRE AFFAIRE"
   ]
  },
  {
   "cell_type": "code",
   "execution_count": 164,
   "id": "af533225-f3b3-4658-aca2-3ddb64918d51",
   "metadata": {},
   "outputs": [],
   "source": [
    "#MISE EN PLACE DE RECHERCHE X POUR RECUPERATION CHEZ L'OP\n",
    "        # Vérification des correspondances entre A1 et B1\n",
    "correspondance_Montant_op= transfert.set_index('External id')['Amount'].abs()\n",
    "\n",
    "df_filteredpmt['MtOP'] = df_filteredpmt['Transaction ID'].map(correspondance_Montant_op)"
   ]
  },
  {
   "cell_type": "code",
   "execution_count": 165,
   "id": "01314a04-2cfd-486f-a066-017aba17f5ca",
   "metadata": {},
   "outputs": [],
   "source": [
    "df_filteredpmt['taux_marchand']=df_filteredpmt['Fee amount'] / df_filteredpmt['Montant']\n",
    "df_filteredpmt['Frais_op']= df_filteredpmt['Montant'] * 0.01\n",
    "df_filteredpmt['pays']= 'CM'\n",
    "df_filteredpmt['provider_name']='MTN CM Payout Direct'\n",
    "df_filteredpmt['Tauxopp']= 0.01\n",
    "df_filteredpmt['type']='Payout'\n",
    "df_filteredpmt['Comm_op']=df_filteredpmt['Montant'] * df_filteredpmt['Tauxopp']\n",
    "df_filteredpmt['Comm_ttc']=df_filteredpmt['Fee amount'] - df_filteredpmt['Comm_op']"
   ]
  },
  {
   "cell_type": "code",
   "execution_count": 166,
   "id": "3da6dcb8-b9c3-411e-a4ed-1698fd3a0613",
   "metadata": {},
   "outputs": [],
   "source": [
    "chiffre_affaire_pmt = df_filteredpmt.rename(columns={\n",
    "        'DateCourte': 'Date Creation',\n",
    "        'Transaction ID': 'ID Transaction',\n",
    "        'pays': 'country',\n",
    "        'Nom du Marchand': 'merchant_name',\n",
    "        'provider_name': 'provider_name',\n",
    "        'Operator': 'operator',\n",
    "        'Statut': 'statut',\n",
    "        'Montant': 'montant_transactions',\n",
    "        'Fee amount':'fee_amount',\n",
    "        'taux_marchand':'Taux Marchand',\n",
    "        'DATEOP':'Date OP',\n",
    "        'IDOPERATOR':'ID OP',\n",
    "        'MtOP':'Montant OP',\n",
    "        'Frais_op':'Frais OP',\n",
    "        'type':'Type',\n",
    "        'Tauxopp':'Taux Opérateur',\n",
    "        'Comm_op':'Commission OP',\n",
    "        'Comm_ttc':'Commission TTC'\n",
    "    })"
   ]
  },
  {
   "cell_type": "code",
   "execution_count": 167,
   "id": "338f35b8-479f-4c12-84f3-5a32ea63d9ea",
   "metadata": {},
   "outputs": [],
   "source": [
    "chiffre_affaire=chiffre_affaire_pmt[['Date Creation',\n",
    "                                     'ID Transaction',\n",
    "                                     'country',\n",
    "                                     'merchant_name',\n",
    "                                     'provider_name',\n",
    "                                     'operator',\n",
    "                                     'statut',\n",
    "                                     'montant_transactions',\n",
    "                                     'fee_amount',\n",
    "                                     'Taux Marchand',\n",
    "                                     'Date OP',\n",
    "                                     'ID OP',\n",
    "                                     'Montant OP',\n",
    "                                     'Frais OP',\n",
    "                                     'Type',\n",
    "                                     'Taux Opérateur',\n",
    "                                     'Commission OP',\n",
    "                                     'Commission TTC'\n",
    "]]  "
   ]
  },
  {
   "cell_type": "code",
   "execution_count": 168,
   "id": "94856895-8b34-47d9-9907-ab95e8736382",
   "metadata": {},
   "outputs": [
    {
     "name": "stdout",
     "output_type": "stream",
     "text": [
      "Fichier Excel avec plusieurs feuilles sauvegardé avec succès: D:\\RECONCILIATIONS\\TRANSFERT\\MTN CM\\CA\\DEC\\20241217_150955_RAPPORT_CA_MTNCM_PAYOUT_20241216.xlsx\n"
     ]
    }
   ],
   "source": [
    "report_date = \"20241216\"\n",
    "# Générer automatiquement le chemin de sortie avec la date actuelle\n",
    "current_date = datetime.now().strftime(\"%Y%m%d_%H%M%S\")\n",
    "output_dir = 'D:\\RECONCILIATIONS\\TRANSFERT\\MTN CM\\CA\\DEC'\n",
    "output_file_name = f\"{current_date}_RAPPORT_CA_MTNCM_PAYOUT_{report_date}.xlsx\"\n",
    "output_file_path = os.path.join(output_dir, output_file_name)\n",
    "\n",
    "# Création de DataFrames d'exemple\n",
    "CA = chiffre_affaire\n",
    "\n",
    "\n",
    "# Dictionnaire de DataFrames\n",
    "feuilles = {\n",
    "    'Chiffre_Affaire': CA,\n",
    "    \n",
    "}\n",
    "\n",
    "# Création de l'objet ExcelWriter\n",
    "with pd.ExcelWriter(output_file_path, engine='openpyxl') as writer:\n",
    "    for nom_feuille, df in feuilles.items():\n",
    "        df.to_excel(writer, sheet_name=nom_feuille, index=False)\n",
    "\n",
    "print(f\"Fichier Excel avec plusieurs feuilles sauvegardé avec succès: {output_file_path}\")"
   ]
  },
  {
   "cell_type": "code",
   "execution_count": null,
   "id": "8f12ff41-c244-4395-8f88-ad1bbed0b9f6",
   "metadata": {},
   "outputs": [],
   "source": []
  }
 ],
 "metadata": {
  "kernelspec": {
   "display_name": "Python 3 (ipykernel)",
   "language": "python",
   "name": "python3"
  },
  "language_info": {
   "codemirror_mode": {
    "name": "ipython",
    "version": 3
   },
   "file_extension": ".py",
   "mimetype": "text/x-python",
   "name": "python",
   "nbconvert_exporter": "python",
   "pygments_lexer": "ipython3",
   "version": "3.12.6"
  }
 },
 "nbformat": 4,
 "nbformat_minor": 5
}
